{
 "cells": [
  {
   "cell_type": "code",
   "execution_count": 6,
   "metadata": {
    "colab": {},
    "colab_type": "code",
    "id": "S19jleua1_GE"
   },
   "outputs": [
    {
     "name": "stdout",
     "output_type": "stream",
     "text": [
      "3.6.8 |Anaconda, Inc.| (default, Feb 11 2019, 15:03:47) [MSC v.1915 64 bit (AMD64)]\n"
     ]
    }
   ],
   "source": [
    "import sys\n",
    "print(sys.version)"
   ]
  },
  {
   "cell_type": "code",
   "execution_count": 1,
   "metadata": {
    "colab": {},
    "colab_type": "code",
    "id": "XGXh32Yl3E5s"
   },
   "outputs": [
    {
     "name": "stderr",
     "output_type": "stream",
     "text": [
      "Using TensorFlow backend.\n"
     ]
    }
   ],
   "source": [
    "# Importing dependencies\n",
    "import numpy as np\n",
    "np.random.seed(1)\n",
    "import tensorflow\n",
    "tensorflow.random.set_seed(2)\n",
    "import pandas as pd\n",
    "import matplotlib.pyplot as plt\n",
    "from keras.models import Sequential, load_model\n",
    "from keras.layers.core import Dense\n",
    "from keras.layers.recurrent import GRU\n",
    "from keras import optimizers\n",
    "from keras.callbacks import EarlyStopping\n",
    "from sklearn.preprocessing import MinMaxScaler\n",
    "from sklearn.metrics import mean_squared_error, r2_score\n",
    "from math import sqrt\n",
    "import datetime as dt\n",
    "import time\n",
    "import data_prep_helper\n",
    "plt.style.use('ggplot')"
   ]
  },
  {
   "cell_type": "markdown",
   "metadata": {},
   "source": [
    "### Data Preprocessing"
   ]
  },
  {
   "cell_type": "code",
   "execution_count": 2,
   "metadata": {
    "colab": {},
    "colab_type": "code",
    "id": "FNioyc6mZUAJ"
   },
   "outputs": [],
   "source": [
    "# Setting up an early stop\n",
    "earlystop = EarlyStopping(monitor='val_loss', min_delta=0.0001, patience=80,  verbose=1, mode='min')\n",
    "callbacks_list = [earlystop]"
   ]
  },
  {
   "cell_type": "code",
   "execution_count": 3,
   "metadata": {
    "colab": {},
    "colab_type": "code",
    "id": "r5O0a39R9Z_Z"
   },
   "outputs": [],
   "source": [
    "# Loading the dataset\n",
    "do = data_prep_helper.ShiftChartData(chart_col=[\"Price\", \"High\", \"Low\"])"
   ]
  },
  {
   "cell_type": "code",
   "execution_count": 4,
   "metadata": {},
   "outputs": [],
   "source": [
    "df = do.get_causal_const_shift(do.chart_df)"
   ]
  },
  {
   "cell_type": "code",
   "execution_count": 5,
   "metadata": {},
   "outputs": [
    {
     "data": {
      "text/html": [
       "<div>\n",
       "<style scoped>\n",
       "    .dataframe tbody tr th:only-of-type {\n",
       "        vertical-align: middle;\n",
       "    }\n",
       "\n",
       "    .dataframe tbody tr th {\n",
       "        vertical-align: top;\n",
       "    }\n",
       "\n",
       "    .dataframe thead th {\n",
       "        text-align: right;\n",
       "    }\n",
       "</style>\n",
       "<table border=\"1\" class=\"dataframe\">\n",
       "  <thead>\n",
       "    <tr style=\"text-align: right;\">\n",
       "      <th></th>\n",
       "      <th>bitcoin_Price</th>\n",
       "      <th>bitcoin_High</th>\n",
       "      <th>bitcoin_Low</th>\n",
       "      <th>sp500_Price</th>\n",
       "      <th>sp500_High</th>\n",
       "      <th>sp500_Low</th>\n",
       "      <th>dax_Price</th>\n",
       "      <th>dax_High</th>\n",
       "      <th>dax_Low</th>\n",
       "      <th>googl_Price</th>\n",
       "      <th>...</th>\n",
       "      <th>googl_High_prev_week</th>\n",
       "      <th>googl_High_prev_month</th>\n",
       "      <th>googl_Low_prev_week</th>\n",
       "      <th>googl_Low_prev_month</th>\n",
       "      <th>bitcoin_Google_Trends_prev_week</th>\n",
       "      <th>bitcoin_Google_Trends_prev_month</th>\n",
       "      <th>cryptocurrency_Google_Trends_prev_week</th>\n",
       "      <th>cryptocurrency_Google_Trends_prev_month</th>\n",
       "      <th>economy_pos_sents_prev_week</th>\n",
       "      <th>economy_pos_sents_prev_month</th>\n",
       "    </tr>\n",
       "    <tr>\n",
       "      <th>Date</th>\n",
       "      <th></th>\n",
       "      <th></th>\n",
       "      <th></th>\n",
       "      <th></th>\n",
       "      <th></th>\n",
       "      <th></th>\n",
       "      <th></th>\n",
       "      <th></th>\n",
       "      <th></th>\n",
       "      <th></th>\n",
       "      <th></th>\n",
       "      <th></th>\n",
       "      <th></th>\n",
       "      <th></th>\n",
       "      <th></th>\n",
       "      <th></th>\n",
       "      <th></th>\n",
       "      <th></th>\n",
       "      <th></th>\n",
       "      <th></th>\n",
       "      <th></th>\n",
       "    </tr>\n",
       "  </thead>\n",
       "  <tbody>\n",
       "    <tr>\n",
       "      <th>2015-01-08</th>\n",
       "      <td>282.7</td>\n",
       "      <td>292.7</td>\n",
       "      <td>279.0</td>\n",
       "      <td>2062.14</td>\n",
       "      <td>2064.08</td>\n",
       "      <td>2030.61</td>\n",
       "      <td>9837.61</td>\n",
       "      <td>9855.43</td>\n",
       "      <td>9607.90</td>\n",
       "      <td>506.91</td>\n",
       "      <td>...</td>\n",
       "      <td>0.0</td>\n",
       "      <td>0.0</td>\n",
       "      <td>0.0</td>\n",
       "      <td>0.0</td>\n",
       "      <td>0.0</td>\n",
       "      <td>0.0</td>\n",
       "      <td>0.0</td>\n",
       "      <td>0.0</td>\n",
       "      <td>0.0</td>\n",
       "      <td>0.0</td>\n",
       "    </tr>\n",
       "    <tr>\n",
       "      <th>2015-01-09</th>\n",
       "      <td>288.0</td>\n",
       "      <td>290.6</td>\n",
       "      <td>277.3</td>\n",
       "      <td>2044.81</td>\n",
       "      <td>2064.43</td>\n",
       "      <td>2038.33</td>\n",
       "      <td>9648.50</td>\n",
       "      <td>9860.18</td>\n",
       "      <td>9601.75</td>\n",
       "      <td>500.72</td>\n",
       "      <td>...</td>\n",
       "      <td>0.0</td>\n",
       "      <td>0.0</td>\n",
       "      <td>0.0</td>\n",
       "      <td>0.0</td>\n",
       "      <td>0.0</td>\n",
       "      <td>0.0</td>\n",
       "      <td>0.0</td>\n",
       "      <td>0.0</td>\n",
       "      <td>0.0</td>\n",
       "      <td>0.0</td>\n",
       "    </tr>\n",
       "    <tr>\n",
       "      <th>2015-01-12</th>\n",
       "      <td>269.3</td>\n",
       "      <td>273.1</td>\n",
       "      <td>263.3</td>\n",
       "      <td>2028.26</td>\n",
       "      <td>2049.30</td>\n",
       "      <td>2022.58</td>\n",
       "      <td>9781.90</td>\n",
       "      <td>9815.96</td>\n",
       "      <td>9622.32</td>\n",
       "      <td>497.06</td>\n",
       "      <td>...</td>\n",
       "      <td>0.0</td>\n",
       "      <td>0.0</td>\n",
       "      <td>0.0</td>\n",
       "      <td>0.0</td>\n",
       "      <td>0.0</td>\n",
       "      <td>0.0</td>\n",
       "      <td>0.0</td>\n",
       "      <td>0.0</td>\n",
       "      <td>0.0</td>\n",
       "      <td>0.0</td>\n",
       "    </tr>\n",
       "    <tr>\n",
       "      <th>2015-01-13</th>\n",
       "      <td>221.3</td>\n",
       "      <td>269.1</td>\n",
       "      <td>217.1</td>\n",
       "      <td>2023.03</td>\n",
       "      <td>2056.93</td>\n",
       "      <td>2008.25</td>\n",
       "      <td>9941.00</td>\n",
       "      <td>9978.94</td>\n",
       "      <td>9755.02</td>\n",
       "      <td>501.80</td>\n",
       "      <td>...</td>\n",
       "      <td>0.0</td>\n",
       "      <td>0.0</td>\n",
       "      <td>0.0</td>\n",
       "      <td>0.0</td>\n",
       "      <td>0.0</td>\n",
       "      <td>0.0</td>\n",
       "      <td>0.0</td>\n",
       "      <td>0.0</td>\n",
       "      <td>0.0</td>\n",
       "      <td>0.0</td>\n",
       "    </tr>\n",
       "    <tr>\n",
       "      <th>2015-01-14</th>\n",
       "      <td>164.9</td>\n",
       "      <td>230.9</td>\n",
       "      <td>157.3</td>\n",
       "      <td>2011.27</td>\n",
       "      <td>2018.40</td>\n",
       "      <td>1988.44</td>\n",
       "      <td>9817.08</td>\n",
       "      <td>9962.98</td>\n",
       "      <td>9768.10</td>\n",
       "      <td>505.93</td>\n",
       "      <td>...</td>\n",
       "      <td>0.0</td>\n",
       "      <td>0.0</td>\n",
       "      <td>0.0</td>\n",
       "      <td>0.0</td>\n",
       "      <td>0.0</td>\n",
       "      <td>0.0</td>\n",
       "      <td>0.0</td>\n",
       "      <td>0.0</td>\n",
       "      <td>0.0</td>\n",
       "      <td>0.0</td>\n",
       "    </tr>\n",
       "  </tbody>\n",
       "</table>\n",
       "<p>5 rows × 63 columns</p>\n",
       "</div>"
      ],
      "text/plain": [
       "            bitcoin_Price  bitcoin_High  bitcoin_Low  sp500_Price  sp500_High  \\\n",
       "Date                                                                            \n",
       "2015-01-08          282.7         292.7        279.0      2062.14     2064.08   \n",
       "2015-01-09          288.0         290.6        277.3      2044.81     2064.43   \n",
       "2015-01-12          269.3         273.1        263.3      2028.26     2049.30   \n",
       "2015-01-13          221.3         269.1        217.1      2023.03     2056.93   \n",
       "2015-01-14          164.9         230.9        157.3      2011.27     2018.40   \n",
       "\n",
       "            sp500_Low  dax_Price  dax_High  dax_Low  googl_Price  ...  \\\n",
       "Date                                                              ...   \n",
       "2015-01-08    2030.61    9837.61   9855.43  9607.90       506.91  ...   \n",
       "2015-01-09    2038.33    9648.50   9860.18  9601.75       500.72  ...   \n",
       "2015-01-12    2022.58    9781.90   9815.96  9622.32       497.06  ...   \n",
       "2015-01-13    2008.25    9941.00   9978.94  9755.02       501.80  ...   \n",
       "2015-01-14    1988.44    9817.08   9962.98  9768.10       505.93  ...   \n",
       "\n",
       "            googl_High_prev_week  googl_High_prev_month  googl_Low_prev_week  \\\n",
       "Date                                                                           \n",
       "2015-01-08                   0.0                    0.0                  0.0   \n",
       "2015-01-09                   0.0                    0.0                  0.0   \n",
       "2015-01-12                   0.0                    0.0                  0.0   \n",
       "2015-01-13                   0.0                    0.0                  0.0   \n",
       "2015-01-14                   0.0                    0.0                  0.0   \n",
       "\n",
       "            googl_Low_prev_month  bitcoin_Google_Trends_prev_week  \\\n",
       "Date                                                                \n",
       "2015-01-08                   0.0                              0.0   \n",
       "2015-01-09                   0.0                              0.0   \n",
       "2015-01-12                   0.0                              0.0   \n",
       "2015-01-13                   0.0                              0.0   \n",
       "2015-01-14                   0.0                              0.0   \n",
       "\n",
       "            bitcoin_Google_Trends_prev_month  \\\n",
       "Date                                           \n",
       "2015-01-08                               0.0   \n",
       "2015-01-09                               0.0   \n",
       "2015-01-12                               0.0   \n",
       "2015-01-13                               0.0   \n",
       "2015-01-14                               0.0   \n",
       "\n",
       "            cryptocurrency_Google_Trends_prev_week  \\\n",
       "Date                                                 \n",
       "2015-01-08                                     0.0   \n",
       "2015-01-09                                     0.0   \n",
       "2015-01-12                                     0.0   \n",
       "2015-01-13                                     0.0   \n",
       "2015-01-14                                     0.0   \n",
       "\n",
       "            cryptocurrency_Google_Trends_prev_month  \\\n",
       "Date                                                  \n",
       "2015-01-08                                      0.0   \n",
       "2015-01-09                                      0.0   \n",
       "2015-01-12                                      0.0   \n",
       "2015-01-13                                      0.0   \n",
       "2015-01-14                                      0.0   \n",
       "\n",
       "            economy_pos_sents_prev_week  economy_pos_sents_prev_month  \n",
       "Date                                                                   \n",
       "2015-01-08                          0.0                           0.0  \n",
       "2015-01-09                          0.0                           0.0  \n",
       "2015-01-12                          0.0                           0.0  \n",
       "2015-01-13                          0.0                           0.0  \n",
       "2015-01-14                          0.0                           0.0  \n",
       "\n",
       "[5 rows x 63 columns]"
      ]
     },
     "execution_count": 5,
     "metadata": {},
     "output_type": "execute_result"
    }
   ],
   "source": [
    "df.head()"
   ]
  },
  {
   "cell_type": "code",
   "execution_count": 12,
   "metadata": {},
   "outputs": [
    {
     "data": {
      "text/plain": [
       "Index(['bitcoin_Price', 'bitcoin_High', 'bitcoin_Low', 'sp500_Price',\n",
       "       'sp500_High', 'sp500_Low', 'dax_Price', 'dax_High', 'dax_Low',\n",
       "       'googl_Price', 'googl_High', 'googl_Low', 'gold_Price', 'gold_High',\n",
       "       'gold_Low', 'alibaba_Price', 'alibaba_High', 'alibaba_Low',\n",
       "       'amazon_Price', 'amazon_High', 'amazon_Low', 'bitcoin_Google_Trends',\n",
       "       'cryptocurrency_Google_Trends', 'trading_Google_Trends',\n",
       "       'bitcoin_pos_sents', 'bitcoin_neg_sents', 'bitcoin_quot_sents',\n",
       "       'economy_pos_sents', 'economy_neg_sents', 'economy_quot_sents',\n",
       "       'month-1', 'month-2', 'month-3', 'bitcoin_Price_prev_week',\n",
       "       'bitcoin_Price_prev_month', 'bitcoin_High_prev_week',\n",
       "       'bitcoin_High_prev_month', 'bitcoin_Low_prev_week',\n",
       "       'bitcoin_Low_prev_month', 'alibaba_Price_prev_week',\n",
       "       'alibaba_Price_prev_month', 'alibaba_High_prev_week',\n",
       "       'alibaba_High_prev_month', 'alibaba_Low_prev_week',\n",
       "       'alibaba_Low_prev_month', 'amazon_Price_prev_week',\n",
       "       'amazon_Price_prev_month', 'amazon_High_prev_week',\n",
       "       'amazon_High_prev_month', 'amazon_Low_prev_week',\n",
       "       'amazon_Low_prev_month', 'googl_Price_prev_week',\n",
       "       'googl_Price_prev_month', 'googl_High_prev_week',\n",
       "       'googl_High_prev_month', 'googl_Low_prev_week', 'googl_Low_prev_month',\n",
       "       'bitcoin_Google_Trends_prev_week', 'bitcoin_Google_Trends_prev_month',\n",
       "       'cryptocurrency_Google_Trends_prev_week',\n",
       "       'cryptocurrency_Google_Trends_prev_month',\n",
       "       'economy_pos_sents_prev_week', 'economy_pos_sents_prev_month'],\n",
       "      dtype='object')"
      ]
     },
     "execution_count": 12,
     "metadata": {},
     "output_type": "execute_result"
    }
   ],
   "source": [
    "df.columns"
   ]
  },
  {
   "cell_type": "code",
   "execution_count": 6,
   "metadata": {
    "colab": {},
    "colab_type": "code",
    "id": "2H5Lkte_NgWT"
   },
   "outputs": [
    {
     "data": {
      "text/plain": [
       "bitcoin_Price                              1.000000\n",
       "bitcoin_High                               0.998878\n",
       "bitcoin_Low                                0.998444\n",
       "sp500_Price                                0.845476\n",
       "sp500_High                                 0.847199\n",
       "                                             ...   \n",
       "bitcoin_Google_Trends_prev_month           0.665822\n",
       "cryptocurrency_Google_Trends_prev_week     0.628953\n",
       "cryptocurrency_Google_Trends_prev_month    0.631026\n",
       "economy_pos_sents_prev_week                0.570798\n",
       "economy_pos_sents_prev_month               0.517859\n",
       "Name: bitcoin_Price, Length: 63, dtype: float64"
      ]
     },
     "execution_count": 6,
     "metadata": {},
     "output_type": "execute_result"
    }
   ],
   "source": [
    "# Correlation matrix\n",
    "df.corr()['bitcoin_Price']"
   ]
  },
  {
   "cell_type": "code",
   "execution_count": 7,
   "metadata": {},
   "outputs": [
    {
     "name": "stdout",
     "output_type": "stream",
     "text": [
      "count     1274.000000\n",
      "mean      4244.355102\n",
      "std       4134.456446\n",
      "min        216.600000\n",
      "25%        451.275000\n",
      "50%       2939.400000\n",
      "75%       7634.175000\n",
      "max      19221.100000\n",
      "Name: bitcoin_High, dtype: float64\n"
     ]
    }
   ],
   "source": [
    "print(df.describe()[\"bitcoin_High\"]) \n",
    "df.drop(df[df[\"bitcoin_High\"]==0].index, inplace = True) #Dropping rows with volume value 0"
   ]
  },
  {
   "cell_type": "code",
   "execution_count": 8,
   "metadata": {
    "colab": {},
    "colab_type": "code",
    "id": "zRVEzZ1FXj_p"
   },
   "outputs": [],
   "source": [
    "#Build and train the model\n",
    "def fit_model(train,val,timesteps,hl,lr,batch,epochs):\n",
    "    X_train = []\n",
    "    Y_train = []\n",
    "    X_val = []\n",
    "    Y_val = []\n",
    "  \n",
    "    # Loop for training data\n",
    "    for i in range(timesteps,train.shape[0]):\n",
    "        X_train.append(train[i-timesteps:i])\n",
    "        Y_train.append(train[i][0])\n",
    "    X_train,Y_train = np.array(X_train),np.array(Y_train)\n",
    "  \n",
    "    # Loop for val data\n",
    "    for i in range(timesteps,val.shape[0]):\n",
    "        X_val.append(val[i-timesteps:i])\n",
    "        Y_val.append(val[i][0])\n",
    "    X_val,Y_val = np.array(X_val),np.array(Y_val)\n",
    "  \n",
    "    # Adding Layers to the model\n",
    "    model = Sequential()\n",
    "    model.add(GRU(X_train.shape[2],input_shape = (X_train.shape[1],X_train.shape[2]),return_sequences = True,\n",
    "                  activation = 'relu'))\n",
    "    for i in range(len(hl)-1):        \n",
    "        model.add(GRU(hl[i],activation = 'relu',return_sequences = True))\n",
    "    model.add(GRU(hl[-1],activation = 'relu'))\n",
    "    model.add(Dense(1))\n",
    "    model.compile(optimizer = optimizers.Adam(lr = lr), loss = 'mean_squared_error')\n",
    "  \n",
    "    # Training the data\n",
    "    history = model.fit(X_train,Y_train,epochs = epochs,batch_size = batch,validation_data = (X_val, Y_val),verbose = 0,\n",
    "                        shuffle = False, callbacks=callbacks_list)\n",
    "    model.reset_states()\n",
    "    return model, history.history['loss'], history.history['val_loss']\n",
    "  "
   ]
  },
  {
   "cell_type": "code",
   "execution_count": 9,
   "metadata": {
    "colab": {},
    "colab_type": "code",
    "id": "LpwHmJeQJqyI"
   },
   "outputs": [],
   "source": [
    "# Evaluating the model\n",
    "def evaluate_model(model,test,timesteps):\n",
    "    X_test = []\n",
    "    Y_test = []\n",
    "\n",
    "    # Loop for testing data\n",
    "    for i in range(timesteps,test.shape[0]):\n",
    "        X_test.append(test[i-timesteps:i])\n",
    "        Y_test.append(test[i][0])\n",
    "    X_test,Y_test = np.array(X_test),np.array(Y_test)\n",
    "  \n",
    "    # Prediction Time !!!!\n",
    "    Y_hat = model.predict(X_test)\n",
    "    mse = mean_squared_error(Y_test,Y_hat)\n",
    "    rmse = sqrt(mse)\n",
    "    r2 = r2_score(Y_test,Y_hat)\n",
    "    return mse,rmse, r2, Y_test, Y_hat\n",
    "  "
   ]
  },
  {
   "cell_type": "code",
   "execution_count": 10,
   "metadata": {
    "colab": {},
    "colab_type": "code",
    "id": "pI0q18ajCLx6"
   },
   "outputs": [],
   "source": [
    "# Plotting the predictions\n",
    "def plot_data(Y_test,Y_hat):\n",
    "    plt.plot(Y_test,c = 'r')\n",
    "    plt.plot(Y_hat,c = 'y')\n",
    "    plt.xlabel('Day')\n",
    "    plt.ylabel('Price')\n",
    "    plt.title(\"Stock Price Prediction using Multivariate-GRU\")\n",
    "    plt.legend(['Actual','Predicted'],loc = 'lower right')\n",
    "    plt.show()"
   ]
  },
  {
   "cell_type": "code",
   "execution_count": 11,
   "metadata": {
    "colab": {},
    "colab_type": "code",
    "id": "4NeqKRBZZr0Q"
   },
   "outputs": [],
   "source": [
    "# Plotting the training errors\n",
    "def plot_error(train_loss,val_loss):\n",
    "    plt.plot(train_loss,c = 'r')\n",
    "    plt.plot(val_loss,c = 'b')\n",
    "    plt.ylabel('Loss')\n",
    "    plt.xlabel('Epochs')\n",
    "    plt.title('Loss Plot')\n",
    "    plt.legend(['train','val'],loc = 'lower right')\n",
    "    plt.show()"
   ]
  },
  {
   "cell_type": "markdown",
   "metadata": {},
   "source": [
    "### Model Building"
   ]
  },
  {
   "cell_type": "code",
   "execution_count": 20,
   "metadata": {
    "colab": {},
    "colab_type": "code",
    "id": "gAvOMIyjIQO-"
   },
   "outputs": [
    {
     "name": "stdout",
     "output_type": "stream",
     "text": [
      "(1274, 8)\n",
      "            bitcoin_Price_prev_week  bitcoin_High_prev_week  \\\n",
      "Date                                                          \n",
      "2020-03-04                   9684.5                  9747.1   \n",
      "2020-03-05                   9662.7                  9981.0   \n",
      "2020-03-06                   9317.2                  9672.3   \n",
      "2020-03-09                   8800.3                  9368.1   \n",
      "2020-03-10                   8818.6                  8968.3   \n",
      "\n",
      "            bitcoin_Low_prev_week  alibaba_Price_prev_week  \\\n",
      "Date                                                         \n",
      "2020-03-04                 9574.5                   212.59   \n",
      "2020-03-05                 9507.0                   206.16   \n",
      "2020-03-06                 9269.8                   205.61   \n",
      "2020-03-09                 8672.0                   208.74   \n",
      "2020-03-10                 8538.5                   205.03   \n",
      "\n",
      "            alibaba_High_prev_week  bitcoin_Google_Trends_prev_week  \\\n",
      "Date                                                                  \n",
      "2020-03-04                  217.60                           1786.0   \n",
      "2020-03-05                  207.28                            849.0   \n",
      "2020-03-06                  209.95                              0.0   \n",
      "2020-03-09                  213.08                              0.0   \n",
      "2020-03-10                  209.97                              0.0   \n",
      "\n",
      "            cryptocurrency_Google_Trends_prev_week  month-1  \n",
      "Date                                                         \n",
      "2020-03-04                                   115.0        0  \n",
      "2020-03-05                                    68.0        0  \n",
      "2020-03-06                                     0.0        0  \n",
      "2020-03-09                                     0.0        0  \n",
      "2020-03-10                                     0.0        0  \n"
     ]
    }
   ],
   "source": [
    "# Extracting the series\n",
    "series = df[['bitcoin_Price_prev_week',\n",
    "             'bitcoin_High_prev_week',\n",
    "             'bitcoin_Low_prev_week',\n",
    "             'alibaba_Price_prev_week',\n",
    "             'alibaba_High_prev_week',\n",
    "             'bitcoin_Google_Trends_prev_week',\n",
    "             'cryptocurrency_Google_Trends_prev_week',\n",
    "             'month-1']] # Picking the features\n",
    "print(series.shape)\n",
    "print(series.tail())"
   ]
  },
  {
   "cell_type": "code",
   "execution_count": 21,
   "metadata": {
    "colab": {},
    "colab_type": "code",
    "id": "Tjso-RjNDmbs"
   },
   "outputs": [
    {
     "data": {
      "text/plain": [
       "'\\n# Train Val Test Split\\ntrain_start = dt.date(1997,1,1)\\ntrain_end = dt.date(2006,12,31)\\ntrain_data = series.loc[train_start:train_end]\\n\\nval_start = dt.date(2007,1,1)\\nval_end = dt.date(2008,12,31)\\nval_data = series.loc[val_start:val_end]\\n\\ntest_start = dt.date(2009,1,1)\\ntest_end = dt.date(2010,12,31)\\ntest_data = series.loc[test_start:test_end]\\n\\nprint(train_data.shape,val_data.shape,test_data.shape)\\n'"
      ]
     },
     "execution_count": 21,
     "metadata": {},
     "output_type": "execute_result"
    }
   ],
   "source": [
    "'''\n",
    "# Train Val Test Split\n",
    "train_start = dt.date(1997,1,1)\n",
    "train_end = dt.date(2006,12,31)\n",
    "train_data = series.loc[train_start:train_end]\n",
    "\n",
    "val_start = dt.date(2007,1,1)\n",
    "val_end = dt.date(2008,12,31)\n",
    "val_data = series.loc[val_start:val_end]\n",
    "\n",
    "test_start = dt.date(2009,1,1)\n",
    "test_end = dt.date(2010,12,31)\n",
    "test_data = series.loc[test_start:test_end]\n",
    "\n",
    "print(train_data.shape,val_data.shape,test_data.shape)\n",
    "'''"
   ]
  },
  {
   "cell_type": "code",
   "execution_count": 22,
   "metadata": {},
   "outputs": [],
   "source": [
    "#creating the train and validation set\n",
    "train = series[:int(0.7*(len(series)))]\n",
    "val = series[int(0.7*(len(series))):int(0.85*(len(series)))]\n",
    "test = series[int(0.85*(len(series))):]"
   ]
  },
  {
   "cell_type": "code",
   "execution_count": 23,
   "metadata": {
    "colab": {},
    "colab_type": "code",
    "id": "NWXR5oL2ZnY4"
   },
   "outputs": [
    {
     "name": "stdout",
     "output_type": "stream",
     "text": [
      "(891, 8) (191, 8) (192, 8)\n"
     ]
    },
    {
     "name": "stderr",
     "output_type": "stream",
     "text": [
      "/opt/conda/lib/python3.7/site-packages/sklearn/preprocessing/data.py:334: DataConversionWarning: Data with input dtype uint8, float64 were all converted to float64 by MinMaxScaler.\n",
      "  return self.partial_fit(X, y)\n"
     ]
    }
   ],
   "source": [
    "# Normalisation\n",
    "sc = MinMaxScaler()\n",
    "train = sc.fit_transform(train)\n",
    "val = sc.transform(val)\n",
    "test = sc.transform(test)\n",
    "print(train.shape,val.shape,test.shape)"
   ]
  },
  {
   "cell_type": "code",
   "execution_count": 24,
   "metadata": {},
   "outputs": [],
   "source": [
    "timesteps = 40\n",
    "hl = [40,35]\n",
    "lr = 1e-4\n",
    "batch_size = 64\n",
    "num_epochs = 200"
   ]
  },
  {
   "cell_type": "code",
   "execution_count": 25,
   "metadata": {},
   "outputs": [
    {
     "data": {
      "image/png": "[encoded data removed]",
      "text/plain": [
       "<Figure size 432x288 with 1 Axes>"
      ]
     },
     "metadata": {
      "needs_background": "light"
     },
     "output_type": "display_data"
    }
   ],
   "source": [
    "model,train_error,val_error = fit_model(train,val,timesteps,hl,lr,batch_size,num_epochs)\n",
    "plot_error(train_error,val_error)"
   ]
  },
  {
   "cell_type": "code",
   "execution_count": 26,
   "metadata": {},
   "outputs": [
    {
     "name": "stdout",
     "output_type": "stream",
     "text": [
      "MSE = 0.003004029982368279\n",
      "RMSE = 0.054809031941535684\n",
      "R2-Score = 0.2984443467841382\n"
     ]
    },
    {
     "data": {
      "image/png": "[encoded data removed]",
      "text/plain": [
       "<Figure size 432x288 with 1 Axes>"
      ]
     },
     "metadata": {
      "needs_background": "light"
     },
     "output_type": "display_data"
    }
   ],
   "source": [
    "mse,rmse,r2_value,true,predicted = evaluate_model(model,test,40)\n",
    "print(\"MSE =\",mse)\n",
    "print(\"RMSE =\",rmse)\n",
    "print(\"R2-Score =\",r2_value)\n",
    "plot_data(true,predicted)"
   ]
  },
  {
   "cell_type": "code",
   "execution_count": 17,
   "metadata": {},
   "outputs": [],
   "source": [
    "# Save a model\n",
    "model.save('MV3-GRU_40_[40,35]_1e-4_64.h5')\n",
    "#del model  #Deletes the model\n",
    "# Load a model\n",
    "#model = load_model('MV3-GRU_40_[40,35]_1e-4_64.h5')"
   ]
  },
  {
   "cell_type": "markdown",
   "metadata": {},
   "source": [
    "## Cross Validation"
   ]
  },
  {
   "cell_type": "code",
   "execution_count": 42,
   "metadata": {},
   "outputs": [],
   "source": [
    "timesteps = 40\n",
    "hl = [40,35]\n",
    "lr = 1e-4\n",
    "batch_size = 64\n",
    "num_epochs = 50"
   ]
  },
  {
   "cell_type": "code",
   "execution_count": 43,
   "metadata": {},
   "outputs": [
    {
     "name": "stdout",
     "output_type": "stream",
     "text": [
      "(1903, 3)\n",
      "             Price    High     Low\n",
      "Date                              \n",
      "2020-03-13  5584.3  5934.3  3869.5\n",
      "2020-03-14  5182.7  5634.9  5072.2\n",
      "2020-03-15  5366.3  5863.3  5120.6\n",
      "2020-03-16  5030.0  5369.3  4477.7\n",
      "2020-03-17  5271.3  5405.7  4946.5\n"
     ]
    }
   ],
   "source": [
    "# Extracting the series\n",
    "series = df[['Price','High','Low']] # Picking the multivariate series \n",
    "print(series.shape)\n",
    "print(series.tail())"
   ]
  },
  {
   "cell_type": "code",
   "execution_count": 45,
   "metadata": {},
   "outputs": [
    {
     "data": {
      "text/plain": [
       "(1903, 3)"
      ]
     },
     "execution_count": 45,
     "metadata": {},
     "output_type": "execute_result"
    }
   ],
   "source": [
    "series.shape"
   ]
  },
  {
   "cell_type": "code",
   "execution_count": 44,
   "metadata": {},
   "outputs": [
    {
     "data": {
      "text/plain": [
       "array([[0.0078204 , 0.00553464, 0.00840074],\n",
       "       [0.00783604, 0.00528029, 0.00837923],\n",
       "       [0.00637102, 0.00524977, 0.00686258],\n",
       "       ...,\n",
       "       [0.27118026, 0.2874504 , 0.26693593],\n",
       "       [0.25364691, 0.26232068, 0.23235952],\n",
       "       [0.26622733, 0.26417235, 0.2575725 ]])"
      ]
     },
     "execution_count": 44,
     "metadata": {},
     "output_type": "execute_result"
    }
   ],
   "source": [
    "# Normalisation\n",
    "sc = MinMaxScaler()\n",
    "series = sc.fit_transform(series[:1800])\n",
    "series"
   ]
  },
  {
   "cell_type": "markdown",
   "metadata": {},
   "source": [
    "### Split I"
   ]
  },
  {
   "cell_type": "code",
   "execution_count": 47,
   "metadata": {},
   "outputs": [],
   "source": [
    "#Splitting the data for initial model creation\n",
    "splits = 5\n",
    "split_size = 300\n",
    "train = series[:3*split_size]\n",
    "test = series[3*split_size:4*split_size]"
   ]
  },
  {
   "cell_type": "code",
   "execution_count": 50,
   "metadata": {},
   "outputs": [
    {
     "name": "stdout",
     "output_type": "stream",
     "text": [
      "Split 1\n",
      "MSE = 0.1037102627187491\n",
      "RMSE = 0.322040778037113\n",
      "R-Squared Score = -1.414452608415341\n"
     ]
    },
    {
     "data": {
      "image/png": "[encoded data removed]",
      "text/plain": [
       "<Figure size 432x288 with 1 Axes>"
      ]
     },
     "metadata": {},
     "output_type": "display_data"
    }
   ],
   "source": [
    "cross_val_results = list()\n",
    "train_loss = pd.DataFrame()\n",
    "val_loss = pd.DataFrame()\n",
    "model,train_error,val_error = fit_model(train, test,timesteps,hl,lr,batch_size,num_epochs)\n",
    "train_loss['Split1'] = train_error\n",
    "val_loss['Split1'] = val_error\n",
    "mse, rmse, r2_value,true,predicted = evaluate_model(model,test,timesteps)\n",
    "print(\"Split 1\")\n",
    "print('MSE = {}'.format(mse))\n",
    "print('RMSE = {}'.format(rmse))\n",
    "print('R-Squared Score = {}'.format(r2_value))\n",
    "plot_data(true,predicted)\n",
    "cross_val_results.append([mse,rmse,r2_value,0])\n",
    "model.save(\"MV3-GRU-Split1.h5\")"
   ]
  },
  {
   "cell_type": "markdown",
   "metadata": {},
   "source": [
    "### Split II"
   ]
  },
  {
   "cell_type": "code",
   "execution_count": 51,
   "metadata": {},
   "outputs": [
    {
     "name": "stdout",
     "output_type": "stream",
     "text": [
      "Split 2\n",
      "MSE = 0.005008777063320799\n",
      "RMSE = 0.07077271411582856\n",
      "R-Squared Score = 0.1421053957559455\n"
     ]
    },
    {
     "data": {
      "image/png": "[encoded data removed]",
      "text/plain": [
       "<Figure size 432x288 with 1 Axes>"
      ]
     },
     "metadata": {},
     "output_type": "display_data"
    }
   ],
   "source": [
    "train = series[:4*split_size]\n",
    "test = series[4*split_size:5*split_size]\n",
    "X_train,Y_train = [],[]\n",
    "# Loop for training data\n",
    "for i in range(timesteps,train.shape[0]):\n",
    "    X_train.append(train[i-timesteps:i])\n",
    "    Y_train.append(train[i][0])\n",
    "X_train,Y_train = np.array(X_train),np.array(Y_train)\n",
    "\n",
    "start = time.time()\n",
    "history = model.fit(X_train,Y_train,epochs = num_epochs,batch_size = batch_size,validation_split = 0.2,verbose = 0,\n",
    "                    shuffle = False)\n",
    "end = time.time()\n",
    "train_loss[\"Split2\"] = history.history['loss']\n",
    "val_loss[\"Split2\"] = history.history['val_loss']\n",
    "mse, rmse, r2_value,true,predicted = evaluate_model(model,test,timesteps)\n",
    "print(\"Split 2\")\n",
    "print('MSE = {}'.format(mse))\n",
    "print('RMSE = {}'.format(rmse))\n",
    "print('R-Squared Score = {}'.format(r2_value))\n",
    "plot_data(true,predicted)\n",
    "cross_val_results.append([mse,rmse,r2_value,end-start])\n",
    "model.save(\"MV3-GRU-Split2.h5\")"
   ]
  },
  {
   "cell_type": "markdown",
   "metadata": {},
   "source": [
    "### Split III"
   ]
  },
  {
   "cell_type": "code",
   "execution_count": 52,
   "metadata": {},
   "outputs": [
    {
     "name": "stdout",
     "output_type": "stream",
     "text": [
      "Split 3\n",
      "MSE = 0.0009685389941875315\n",
      "RMSE = 0.031121359131431447\n",
      "R-Squared Score = 0.9213075003891268\n"
     ]
    },
    {
     "data": {
      "image/png": "[encoded data removed]",
      "text/plain": [
       "<Figure size 432x288 with 1 Axes>"
      ]
     },
     "metadata": {},
     "output_type": "display_data"
    }
   ],
   "source": [
    "train = series[:5*split_size]\n",
    "test = series[5*split_size:6*split_size]\n",
    "X_train,Y_train = [],[]\n",
    "# Loop for training data\n",
    "for i in range(timesteps,train.shape[0]):\n",
    "    X_train.append(train[i-timesteps:i])\n",
    "    Y_train.append(train[i][0])\n",
    "X_train,Y_train = np.array(X_train),np.array(Y_train)\n",
    "\n",
    "start = time.time()\n",
    "history = model.fit(X_train,Y_train,epochs = num_epochs,batch_size = batch_size,validation_split = 0.2,verbose = 0,\n",
    "                    shuffle = False)\n",
    "end = time.time()   \n",
    "train_loss[\"Split3\"] = history.history['loss']\n",
    "val_loss[\"Split3\"] = history.history['val_loss']\n",
    "mse, rmse, r2_value,true,predicted = evaluate_model(model,test,timesteps)\n",
    "print(\"Split 3\")\n",
    "print('MSE = {}'.format(mse))\n",
    "print('RMSE = {}'.format(rmse))\n",
    "print('R-Squared Score = {}'.format(r2_value))\n",
    "plot_data(true,predicted)\n",
    "cross_val_results.append([mse,rmse,r2_value,end-start])\n",
    "model.save(\"MV3-GRU-Split3.h5\")"
   ]
  },
  {
   "cell_type": "code",
   "execution_count": null,
   "metadata": {},
   "outputs": [],
   "source": [
    "CV_results.to_csv('MV3-GRU_CrossValidation.csv')\n",
    "train_loss.to_csv('MV3-GRU_CrossValidation_TrainLoss.csv')\n",
    "val_loss.to_csv('MV3-GRU_CrossValidation_ValLoss.csv')"
   ]
  }
 ],
 "metadata": {
  "accelerator": "TPU",
  "colab": {
   "collapsed_sections": [],
   "name": "Multivariate-3-GRU.ipynb",
   "provenance": [
    {
     "file_id": "1ANiwUb7Hem1MxFKaX-BUbbEjAGAmJ2l8",
     "timestamp": 1551229090275
    },
    {
     "file_id": "1TbS1iN6r9LWkUIIg2eyr5EB0pIzV5yAK",
     "timestamp": 1551228758851
    },
    {
     "file_id": "1iQNCZLjJhQ56R4aZ1sLrnNQ4PS2KfN2m",
     "timestamp": 1551146300148
    },
    {
     "file_id": "1OKnKPBI38XYPGQW0xUAj0nnJbfO6SuXE",
     "timestamp": 1550670800726
    }
   ],
   "version": "0.3.2"
  },
  "kernelspec": {
   "display_name": "Python 3",
   "language": "python",
   "name": "python3"
  },
  "language_info": {
   "codemirror_mode": {
    "name": "ipython",
    "version": 3
   },
   "file_extension": ".py",
   "mimetype": "text/x-python",
   "name": "python",
   "nbconvert_exporter": "python",
   "pygments_lexer": "ipython3",
   "version": "3.7.6"
  }
 },
 "nbformat": 4,
 "nbformat_minor": 4
}
