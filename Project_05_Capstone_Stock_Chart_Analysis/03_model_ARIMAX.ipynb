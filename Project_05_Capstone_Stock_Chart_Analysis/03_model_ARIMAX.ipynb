{
 "cells": [
  {
   "cell_type": "markdown",
   "metadata": {},
   "source": [
    "https://www.kaggle.com/viridisquotient/arimax"
   ]
  },
  {
   "cell_type": "code",
   "execution_count": 2,
   "metadata": {},
   "outputs": [],
   "source": [
    "import data_prep_helper\n",
    "import statsmodels.api as sm\n",
    "import pandas as pd\n",
    "from math import sqrt\n",
    "from sklearn.metrics import mean_squared_error\n",
    "import plotly.graph_objects as go\n",
    "from plotly.subplots import make_subplots\n",
    "import numpy as np\n",
    "import matplotlib.pyplot as plt"
   ]
  },
  {
   "cell_type": "code",
   "execution_count": 307,
   "metadata": {},
   "outputs": [],
   "source": [
    "do = data_prep_helper.ChartData()"
   ]
  },
  {
   "cell_type": "code",
   "execution_count": 50,
   "metadata": {},
   "outputs": [],
   "source": [
    "do.apply_boll_bands(\"bitcoin_hist\", append_chart=True)"
   ]
  },
  {
   "cell_type": "code",
   "execution_count": 308,
   "metadata": {},
   "outputs": [],
   "source": [
    "corr_df = do.chart_df\n"
   ]
  },
  {
   "cell_type": "code",
   "execution_count": 309,
   "metadata": {},
   "outputs": [],
   "source": [
    "corr_df = corr_df.resample('D').interpolate()"
   ]
  },
  {
   "cell_type": "code",
   "execution_count": 296,
   "metadata": {},
   "outputs": [],
   "source": [
    "corr_df = corr_df.diff().dropna()"
   ]
  },
  {
   "cell_type": "code",
   "execution_count": 363,
   "metadata": {},
   "outputs": [],
   "source": [
    "#creating the train and validation set\n",
    "train = corr_df[:int(0.8*(len(corr_df)))]\n",
    "valid = corr_df[int(0.8*(len(corr_df))):]"
   ]
  },
  {
   "cell_type": "code",
   "execution_count": 364,
   "metadata": {},
   "outputs": [],
   "source": [
    "months = train.index.month\n",
    "dummy_months = pd.get_dummies(months)\n",
    "dummy_months.columns = ['month-%s' % m for m in dummy_months.columns]\n",
    "dummy_months.index = train.index"
   ]
  },
  {
   "cell_type": "code",
   "execution_count": 365,
   "metadata": {},
   "outputs": [
    {
     "name": "stderr",
     "output_type": "stream",
     "text": [
      "/opt/conda/lib/python3.7/site-packages/ipykernel_launcher.py:1: SettingWithCopyWarning:\n",
      "\n",
      "\n",
      "A value is trying to be set on a copy of a slice from a DataFrame.\n",
      "Try using .loc[row_indexer,col_indexer] = value instead\n",
      "\n",
      "See the caveats in the documentation: https://pandas.pydata.org/pandas-docs/stable/user_guide/indexing.html#returning-a-view-versus-a-copy\n",
      "\n",
      "/opt/conda/lib/python3.7/site-packages/ipykernel_launcher.py:2: SettingWithCopyWarning:\n",
      "\n",
      "\n",
      "A value is trying to be set on a copy of a slice from a DataFrame.\n",
      "Try using .loc[row_indexer,col_indexer] = value instead\n",
      "\n",
      "See the caveats in the documentation: https://pandas.pydata.org/pandas-docs/stable/user_guide/indexing.html#returning-a-view-versus-a-copy\n",
      "\n",
      "/opt/conda/lib/python3.7/site-packages/ipykernel_launcher.py:3: SettingWithCopyWarning:\n",
      "\n",
      "\n",
      "A value is trying to be set on a copy of a slice from a DataFrame.\n",
      "Try using .loc[row_indexer,col_indexer] = value instead\n",
      "\n",
      "See the caveats in the documentation: https://pandas.pydata.org/pandas-docs/stable/user_guide/indexing.html#returning-a-view-versus-a-copy\n",
      "\n",
      "/opt/conda/lib/python3.7/site-packages/ipykernel_launcher.py:4: SettingWithCopyWarning:\n",
      "\n",
      "\n",
      "A value is trying to be set on a copy of a slice from a DataFrame.\n",
      "Try using .loc[row_indexer,col_indexer] = value instead\n",
      "\n",
      "See the caveats in the documentation: https://pandas.pydata.org/pandas-docs/stable/user_guide/indexing.html#returning-a-view-versus-a-copy\n",
      "\n",
      "/opt/conda/lib/python3.7/site-packages/ipykernel_launcher.py:5: SettingWithCopyWarning:\n",
      "\n",
      "\n",
      "A value is trying to be set on a copy of a slice from a DataFrame.\n",
      "Try using .loc[row_indexer,col_indexer] = value instead\n",
      "\n",
      "See the caveats in the documentation: https://pandas.pydata.org/pandas-docs/stable/user_guide/indexing.html#returning-a-view-versus-a-copy\n",
      "\n",
      "/opt/conda/lib/python3.7/site-packages/ipykernel_launcher.py:6: SettingWithCopyWarning:\n",
      "\n",
      "\n",
      "A value is trying to be set on a copy of a slice from a DataFrame.\n",
      "Try using .loc[row_indexer,col_indexer] = value instead\n",
      "\n",
      "See the caveats in the documentation: https://pandas.pydata.org/pandas-docs/stable/user_guide/indexing.html#returning-a-view-versus-a-copy\n",
      "\n",
      "/opt/conda/lib/python3.7/site-packages/ipykernel_launcher.py:7: SettingWithCopyWarning:\n",
      "\n",
      "\n",
      "A value is trying to be set on a copy of a slice from a DataFrame.\n",
      "Try using .loc[row_indexer,col_indexer] = value instead\n",
      "\n",
      "See the caveats in the documentation: https://pandas.pydata.org/pandas-docs/stable/user_guide/indexing.html#returning-a-view-versus-a-copy\n",
      "\n",
      "/opt/conda/lib/python3.7/site-packages/ipykernel_launcher.py:9: SettingWithCopyWarning:\n",
      "\n",
      "\n",
      "A value is trying to be set on a copy of a slice from a DataFrame.\n",
      "Try using .loc[row_indexer,col_indexer] = value instead\n",
      "\n",
      "See the caveats in the documentation: https://pandas.pydata.org/pandas-docs/stable/user_guide/indexing.html#returning-a-view-versus-a-copy\n",
      "\n",
      "/opt/conda/lib/python3.7/site-packages/ipykernel_launcher.py:10: SettingWithCopyWarning:\n",
      "\n",
      "\n",
      "A value is trying to be set on a copy of a slice from a DataFrame.\n",
      "Try using .loc[row_indexer,col_indexer] = value instead\n",
      "\n",
      "See the caveats in the documentation: https://pandas.pydata.org/pandas-docs/stable/user_guide/indexing.html#returning-a-view-versus-a-copy\n",
      "\n",
      "/opt/conda/lib/python3.7/site-packages/ipykernel_launcher.py:11: SettingWithCopyWarning:\n",
      "\n",
      "\n",
      "A value is trying to be set on a copy of a slice from a DataFrame.\n",
      "Try using .loc[row_indexer,col_indexer] = value instead\n",
      "\n",
      "See the caveats in the documentation: https://pandas.pydata.org/pandas-docs/stable/user_guide/indexing.html#returning-a-view-versus-a-copy\n",
      "\n",
      "/opt/conda/lib/python3.7/site-packages/ipykernel_launcher.py:12: SettingWithCopyWarning:\n",
      "\n",
      "\n",
      "A value is trying to be set on a copy of a slice from a DataFrame.\n",
      "Try using .loc[row_indexer,col_indexer] = value instead\n",
      "\n",
      "See the caveats in the documentation: https://pandas.pydata.org/pandas-docs/stable/user_guide/indexing.html#returning-a-view-versus-a-copy\n",
      "\n",
      "/opt/conda/lib/python3.7/site-packages/ipykernel_launcher.py:13: SettingWithCopyWarning:\n",
      "\n",
      "\n",
      "A value is trying to be set on a copy of a slice from a DataFrame.\n",
      "Try using .loc[row_indexer,col_indexer] = value instead\n",
      "\n",
      "See the caveats in the documentation: https://pandas.pydata.org/pandas-docs/stable/user_guide/indexing.html#returning-a-view-versus-a-copy\n",
      "\n"
     ]
    }
   ],
   "source": [
    "train['bitcoin_Price_prev_week'] = train['bitcoin_Price'].shift(8)\n",
    "train['bitcoin_Price_prev_month'] = train['bitcoin_Price'].shift(31)\n",
    "train['alibaba_Price_prev_month'] = train['alibaba_Price'].shift(31)\n",
    "train['alibaba_Price_prev_week'] = train['alibaba_Price'].shift(8)\n",
    "train['amazon_Price_prev_month'] = train['amazon_Price'].shift(31)\n",
    "train['googl_Price_prev_month'] = train['googl_Price'].shift(31)\n",
    "train['googl_Price_prev_week'] = train['googl_Price'].shift(8)\n",
    "\n",
    "train['bitcoin_trends_prev_month'] = train['bitcoin_Google_Trends'].shift(31)\n",
    "train['bitcoin_trends_prev_week'] = train['bitcoin_Google_Trends'].shift(8)\n",
    "train['cryptocurrency_trends_prev_month'] = train['cryptocurrency_Google_Trends'].shift(31)\n",
    "train['cryptocurrency_trends_prev_week'] = train['cryptocurrency_Google_Trends'].shift(8)\n",
    "train['economy_pos_prev_month'] = train['economy_pos_sents'].shift(31)\n",
    "\n",
    "\n",
    "train.fillna(0, inplace=True)\n",
    " \n",
    "train = pd.concat([train, dummy_months.iloc[:,:3]], axis=1)"
   ]
  },
  {
   "cell_type": "code",
   "execution_count": 366,
   "metadata": {},
   "outputs": [
    {
     "data": {
      "text/html": [
       "<div>\n",
       "<style scoped>\n",
       "    .dataframe tbody tr th:only-of-type {\n",
       "        vertical-align: middle;\n",
       "    }\n",
       "\n",
       "    .dataframe tbody tr th {\n",
       "        vertical-align: top;\n",
       "    }\n",
       "\n",
       "    .dataframe thead th {\n",
       "        text-align: right;\n",
       "    }\n",
       "</style>\n",
       "<table border=\"1\" class=\"dataframe\">\n",
       "  <thead>\n",
       "    <tr style=\"text-align: right;\">\n",
       "      <th></th>\n",
       "      <th>bitcoin_Price</th>\n",
       "      <th>sp500_Price</th>\n",
       "      <th>dax_Price</th>\n",
       "      <th>googl_Price</th>\n",
       "      <th>gold_Price</th>\n",
       "      <th>alibaba_Price</th>\n",
       "      <th>amazon_Price</th>\n",
       "      <th>bitcoin_Google_Trends</th>\n",
       "      <th>cryptocurrency_Google_Trends</th>\n",
       "      <th>trading_Google_Trends</th>\n",
       "      <th>...</th>\n",
       "      <th>googl_Price_prev_month</th>\n",
       "      <th>googl_Price_prev_week</th>\n",
       "      <th>bitcoin_trends_prev_month</th>\n",
       "      <th>bitcoin_trends_prev_week</th>\n",
       "      <th>cryptocurrency_trends_prev_month</th>\n",
       "      <th>cryptocurrency_trends_prev_week</th>\n",
       "      <th>economy_pos_prev_month</th>\n",
       "      <th>month-1</th>\n",
       "      <th>month-2</th>\n",
       "      <th>month-3</th>\n",
       "    </tr>\n",
       "    <tr>\n",
       "      <th>Date</th>\n",
       "      <th></th>\n",
       "      <th></th>\n",
       "      <th></th>\n",
       "      <th></th>\n",
       "      <th></th>\n",
       "      <th></th>\n",
       "      <th></th>\n",
       "      <th></th>\n",
       "      <th></th>\n",
       "      <th></th>\n",
       "      <th></th>\n",
       "      <th></th>\n",
       "      <th></th>\n",
       "      <th></th>\n",
       "      <th></th>\n",
       "      <th></th>\n",
       "      <th></th>\n",
       "      <th></th>\n",
       "      <th></th>\n",
       "      <th></th>\n",
       "      <th></th>\n",
       "    </tr>\n",
       "  </thead>\n",
       "  <tbody>\n",
       "    <tr>\n",
       "      <th>2015-01-08</th>\n",
       "      <td>282.700000</td>\n",
       "      <td>2062.140000</td>\n",
       "      <td>9837.610000</td>\n",
       "      <td>506.910000</td>\n",
       "      <td>10.810000</td>\n",
       "      <td>105.030000</td>\n",
       "      <td>300.46</td>\n",
       "      <td>442.000000</td>\n",
       "      <td>1.000000</td>\n",
       "      <td>1676.000000</td>\n",
       "      <td>...</td>\n",
       "      <td>0.000000</td>\n",
       "      <td>0.00</td>\n",
       "      <td>0.000000</td>\n",
       "      <td>0.0</td>\n",
       "      <td>0.000000</td>\n",
       "      <td>0.00</td>\n",
       "      <td>0.000000</td>\n",
       "      <td>1</td>\n",
       "      <td>0</td>\n",
       "      <td>0</td>\n",
       "    </tr>\n",
       "    <tr>\n",
       "      <th>2015-01-09</th>\n",
       "      <td>288.000000</td>\n",
       "      <td>2044.810000</td>\n",
       "      <td>9648.500000</td>\n",
       "      <td>500.720000</td>\n",
       "      <td>10.990000</td>\n",
       "      <td>103.020000</td>\n",
       "      <td>296.93</td>\n",
       "      <td>456.000000</td>\n",
       "      <td>0.000000</td>\n",
       "      <td>1632.000000</td>\n",
       "      <td>...</td>\n",
       "      <td>0.000000</td>\n",
       "      <td>0.00</td>\n",
       "      <td>0.000000</td>\n",
       "      <td>0.0</td>\n",
       "      <td>0.000000</td>\n",
       "      <td>0.00</td>\n",
       "      <td>0.000000</td>\n",
       "      <td>1</td>\n",
       "      <td>0</td>\n",
       "      <td>0</td>\n",
       "    </tr>\n",
       "    <tr>\n",
       "      <th>2015-01-10</th>\n",
       "      <td>281.766667</td>\n",
       "      <td>2039.293333</td>\n",
       "      <td>9692.966667</td>\n",
       "      <td>499.500000</td>\n",
       "      <td>11.103333</td>\n",
       "      <td>102.553333</td>\n",
       "      <td>295.09</td>\n",
       "      <td>433.666667</td>\n",
       "      <td>1.666667</td>\n",
       "      <td>1596.666667</td>\n",
       "      <td>...</td>\n",
       "      <td>0.000000</td>\n",
       "      <td>0.00</td>\n",
       "      <td>0.000000</td>\n",
       "      <td>0.0</td>\n",
       "      <td>0.000000</td>\n",
       "      <td>0.00</td>\n",
       "      <td>0.000000</td>\n",
       "      <td>1</td>\n",
       "      <td>0</td>\n",
       "      <td>0</td>\n",
       "    </tr>\n",
       "    <tr>\n",
       "      <th>2015-01-11</th>\n",
       "      <td>275.533333</td>\n",
       "      <td>2033.776667</td>\n",
       "      <td>9737.433333</td>\n",
       "      <td>498.280000</td>\n",
       "      <td>11.216667</td>\n",
       "      <td>102.086667</td>\n",
       "      <td>293.25</td>\n",
       "      <td>411.333333</td>\n",
       "      <td>3.333333</td>\n",
       "      <td>1561.333333</td>\n",
       "      <td>...</td>\n",
       "      <td>0.000000</td>\n",
       "      <td>0.00</td>\n",
       "      <td>0.000000</td>\n",
       "      <td>0.0</td>\n",
       "      <td>0.000000</td>\n",
       "      <td>0.00</td>\n",
       "      <td>0.000000</td>\n",
       "      <td>1</td>\n",
       "      <td>0</td>\n",
       "      <td>0</td>\n",
       "    </tr>\n",
       "    <tr>\n",
       "      <th>2015-01-12</th>\n",
       "      <td>269.300000</td>\n",
       "      <td>2028.260000</td>\n",
       "      <td>9781.900000</td>\n",
       "      <td>497.060000</td>\n",
       "      <td>11.330000</td>\n",
       "      <td>101.620000</td>\n",
       "      <td>291.41</td>\n",
       "      <td>389.000000</td>\n",
       "      <td>5.000000</td>\n",
       "      <td>1526.000000</td>\n",
       "      <td>...</td>\n",
       "      <td>0.000000</td>\n",
       "      <td>0.00</td>\n",
       "      <td>0.000000</td>\n",
       "      <td>0.0</td>\n",
       "      <td>0.000000</td>\n",
       "      <td>0.00</td>\n",
       "      <td>0.000000</td>\n",
       "      <td>1</td>\n",
       "      <td>0</td>\n",
       "      <td>0</td>\n",
       "    </tr>\n",
       "    <tr>\n",
       "      <th>...</th>\n",
       "      <td>...</td>\n",
       "      <td>...</td>\n",
       "      <td>...</td>\n",
       "      <td>...</td>\n",
       "      <td>...</td>\n",
       "      <td>...</td>\n",
       "      <td>...</td>\n",
       "      <td>...</td>\n",
       "      <td>...</td>\n",
       "      <td>...</td>\n",
       "      <td>...</td>\n",
       "      <td>...</td>\n",
       "      <td>...</td>\n",
       "      <td>...</td>\n",
       "      <td>...</td>\n",
       "      <td>...</td>\n",
       "      <td>...</td>\n",
       "      <td>...</td>\n",
       "      <td>...</td>\n",
       "      <td>...</td>\n",
       "      <td>...</td>\n",
       "    </tr>\n",
       "    <tr>\n",
       "      <th>2019-02-22</th>\n",
       "      <td>3965.200000</td>\n",
       "      <td>2792.670000</td>\n",
       "      <td>11457.700000</td>\n",
       "      <td>1116.560000</td>\n",
       "      <td>13.040000</td>\n",
       "      <td>176.920000</td>\n",
       "      <td>1631.56</td>\n",
       "      <td>1538.000000</td>\n",
       "      <td>145.000000</td>\n",
       "      <td>1886.000000</td>\n",
       "      <td>...</td>\n",
       "      <td>1078.630000</td>\n",
       "      <td>1129.20</td>\n",
       "      <td>1412.000000</td>\n",
       "      <td>1338.0</td>\n",
       "      <td>139.000000</td>\n",
       "      <td>155.00</td>\n",
       "      <td>0.113315</td>\n",
       "      <td>0</td>\n",
       "      <td>1</td>\n",
       "      <td>0</td>\n",
       "    </tr>\n",
       "    <tr>\n",
       "      <th>2019-02-23</th>\n",
       "      <td>3921.366667</td>\n",
       "      <td>2793.816667</td>\n",
       "      <td>11473.596667</td>\n",
       "      <td>1116.816667</td>\n",
       "      <td>12.896667</td>\n",
       "      <td>179.030000</td>\n",
       "      <td>1632.04</td>\n",
       "      <td>1565.333333</td>\n",
       "      <td>148.333333</td>\n",
       "      <td>1908.666667</td>\n",
       "      <td>...</td>\n",
       "      <td>1084.410000</td>\n",
       "      <td>1119.63</td>\n",
       "      <td>1388.000000</td>\n",
       "      <td>1237.0</td>\n",
       "      <td>136.000000</td>\n",
       "      <td>150.00</td>\n",
       "      <td>0.147692</td>\n",
       "      <td>0</td>\n",
       "      <td>1</td>\n",
       "      <td>0</td>\n",
       "    </tr>\n",
       "    <tr>\n",
       "      <th>2019-02-24</th>\n",
       "      <td>3877.533333</td>\n",
       "      <td>2794.963333</td>\n",
       "      <td>11489.493333</td>\n",
       "      <td>1117.073333</td>\n",
       "      <td>12.753333</td>\n",
       "      <td>181.140000</td>\n",
       "      <td>1632.52</td>\n",
       "      <td>1592.666667</td>\n",
       "      <td>151.666667</td>\n",
       "      <td>1931.333333</td>\n",
       "      <td>...</td>\n",
       "      <td>1084.000000</td>\n",
       "      <td>1121.35</td>\n",
       "      <td>1466.000000</td>\n",
       "      <td>1343.5</td>\n",
       "      <td>148.000000</td>\n",
       "      <td>155.75</td>\n",
       "      <td>0.101274</td>\n",
       "      <td>0</td>\n",
       "      <td>1</td>\n",
       "      <td>0</td>\n",
       "    </tr>\n",
       "    <tr>\n",
       "      <th>2019-02-25</th>\n",
       "      <td>3833.700000</td>\n",
       "      <td>2796.110000</td>\n",
       "      <td>11505.390000</td>\n",
       "      <td>1117.330000</td>\n",
       "      <td>12.610000</td>\n",
       "      <td>183.250000</td>\n",
       "      <td>1633.00</td>\n",
       "      <td>1620.000000</td>\n",
       "      <td>155.000000</td>\n",
       "      <td>1954.000000</td>\n",
       "      <td>...</td>\n",
       "      <td>1101.510000</td>\n",
       "      <td>1123.07</td>\n",
       "      <td>1317.000000</td>\n",
       "      <td>1450.0</td>\n",
       "      <td>131.000000</td>\n",
       "      <td>161.50</td>\n",
       "      <td>0.100311</td>\n",
       "      <td>0</td>\n",
       "      <td>1</td>\n",
       "      <td>0</td>\n",
       "    </tr>\n",
       "    <tr>\n",
       "      <th>2019-02-26</th>\n",
       "      <td>3810.300000</td>\n",
       "      <td>2793.900000</td>\n",
       "      <td>11540.790000</td>\n",
       "      <td>1122.010000</td>\n",
       "      <td>12.590000</td>\n",
       "      <td>183.540000</td>\n",
       "      <td>1636.40</td>\n",
       "      <td>1515.000000</td>\n",
       "      <td>156.000000</td>\n",
       "      <td>1971.000000</td>\n",
       "      <td>...</td>\n",
       "      <td>1094.293333</td>\n",
       "      <td>1124.79</td>\n",
       "      <td>1379.333333</td>\n",
       "      <td>1556.5</td>\n",
       "      <td>141.666667</td>\n",
       "      <td>167.25</td>\n",
       "      <td>0.106942</td>\n",
       "      <td>0</td>\n",
       "      <td>1</td>\n",
       "      <td>0</td>\n",
       "    </tr>\n",
       "  </tbody>\n",
       "</table>\n",
       "<p>1511 rows × 31 columns</p>\n",
       "</div>"
      ],
      "text/plain": [
       "            bitcoin_Price  sp500_Price     dax_Price  googl_Price  gold_Price  \\\n",
       "Date                                                                            \n",
       "2015-01-08     282.700000  2062.140000   9837.610000   506.910000   10.810000   \n",
       "2015-01-09     288.000000  2044.810000   9648.500000   500.720000   10.990000   \n",
       "2015-01-10     281.766667  2039.293333   9692.966667   499.500000   11.103333   \n",
       "2015-01-11     275.533333  2033.776667   9737.433333   498.280000   11.216667   \n",
       "2015-01-12     269.300000  2028.260000   9781.900000   497.060000   11.330000   \n",
       "...                   ...          ...           ...          ...         ...   \n",
       "2019-02-22    3965.200000  2792.670000  11457.700000  1116.560000   13.040000   \n",
       "2019-02-23    3921.366667  2793.816667  11473.596667  1116.816667   12.896667   \n",
       "2019-02-24    3877.533333  2794.963333  11489.493333  1117.073333   12.753333   \n",
       "2019-02-25    3833.700000  2796.110000  11505.390000  1117.330000   12.610000   \n",
       "2019-02-26    3810.300000  2793.900000  11540.790000  1122.010000   12.590000   \n",
       "\n",
       "            alibaba_Price  amazon_Price  bitcoin_Google_Trends  \\\n",
       "Date                                                             \n",
       "2015-01-08     105.030000        300.46             442.000000   \n",
       "2015-01-09     103.020000        296.93             456.000000   \n",
       "2015-01-10     102.553333        295.09             433.666667   \n",
       "2015-01-11     102.086667        293.25             411.333333   \n",
       "2015-01-12     101.620000        291.41             389.000000   \n",
       "...                   ...           ...                    ...   \n",
       "2019-02-22     176.920000       1631.56            1538.000000   \n",
       "2019-02-23     179.030000       1632.04            1565.333333   \n",
       "2019-02-24     181.140000       1632.52            1592.666667   \n",
       "2019-02-25     183.250000       1633.00            1620.000000   \n",
       "2019-02-26     183.540000       1636.40            1515.000000   \n",
       "\n",
       "            cryptocurrency_Google_Trends  trading_Google_Trends  ...  \\\n",
       "Date                                                             ...   \n",
       "2015-01-08                      1.000000            1676.000000  ...   \n",
       "2015-01-09                      0.000000            1632.000000  ...   \n",
       "2015-01-10                      1.666667            1596.666667  ...   \n",
       "2015-01-11                      3.333333            1561.333333  ...   \n",
       "2015-01-12                      5.000000            1526.000000  ...   \n",
       "...                                  ...                    ...  ...   \n",
       "2019-02-22                    145.000000            1886.000000  ...   \n",
       "2019-02-23                    148.333333            1908.666667  ...   \n",
       "2019-02-24                    151.666667            1931.333333  ...   \n",
       "2019-02-25                    155.000000            1954.000000  ...   \n",
       "2019-02-26                    156.000000            1971.000000  ...   \n",
       "\n",
       "            googl_Price_prev_month  googl_Price_prev_week  \\\n",
       "Date                                                        \n",
       "2015-01-08                0.000000                   0.00   \n",
       "2015-01-09                0.000000                   0.00   \n",
       "2015-01-10                0.000000                   0.00   \n",
       "2015-01-11                0.000000                   0.00   \n",
       "2015-01-12                0.000000                   0.00   \n",
       "...                            ...                    ...   \n",
       "2019-02-22             1078.630000                1129.20   \n",
       "2019-02-23             1084.410000                1119.63   \n",
       "2019-02-24             1084.000000                1121.35   \n",
       "2019-02-25             1101.510000                1123.07   \n",
       "2019-02-26             1094.293333                1124.79   \n",
       "\n",
       "            bitcoin_trends_prev_month  bitcoin_trends_prev_week  \\\n",
       "Date                                                              \n",
       "2015-01-08                   0.000000                       0.0   \n",
       "2015-01-09                   0.000000                       0.0   \n",
       "2015-01-10                   0.000000                       0.0   \n",
       "2015-01-11                   0.000000                       0.0   \n",
       "2015-01-12                   0.000000                       0.0   \n",
       "...                               ...                       ...   \n",
       "2019-02-22                1412.000000                    1338.0   \n",
       "2019-02-23                1388.000000                    1237.0   \n",
       "2019-02-24                1466.000000                    1343.5   \n",
       "2019-02-25                1317.000000                    1450.0   \n",
       "2019-02-26                1379.333333                    1556.5   \n",
       "\n",
       "            cryptocurrency_trends_prev_month  cryptocurrency_trends_prev_week  \\\n",
       "Date                                                                            \n",
       "2015-01-08                          0.000000                             0.00   \n",
       "2015-01-09                          0.000000                             0.00   \n",
       "2015-01-10                          0.000000                             0.00   \n",
       "2015-01-11                          0.000000                             0.00   \n",
       "2015-01-12                          0.000000                             0.00   \n",
       "...                                      ...                              ...   \n",
       "2019-02-22                        139.000000                           155.00   \n",
       "2019-02-23                        136.000000                           150.00   \n",
       "2019-02-24                        148.000000                           155.75   \n",
       "2019-02-25                        131.000000                           161.50   \n",
       "2019-02-26                        141.666667                           167.25   \n",
       "\n",
       "            economy_pos_prev_month  month-1  month-2  month-3  \n",
       "Date                                                           \n",
       "2015-01-08                0.000000        1        0        0  \n",
       "2015-01-09                0.000000        1        0        0  \n",
       "2015-01-10                0.000000        1        0        0  \n",
       "2015-01-11                0.000000        1        0        0  \n",
       "2015-01-12                0.000000        1        0        0  \n",
       "...                            ...      ...      ...      ...  \n",
       "2019-02-22                0.113315        0        1        0  \n",
       "2019-02-23                0.147692        0        1        0  \n",
       "2019-02-24                0.101274        0        1        0  \n",
       "2019-02-25                0.100311        0        1        0  \n",
       "2019-02-26                0.106942        0        1        0  \n",
       "\n",
       "[1511 rows x 31 columns]"
      ]
     },
     "execution_count": 366,
     "metadata": {},
     "output_type": "execute_result"
    }
   ],
   "source": [
    "train"
   ]
  },
  {
   "cell_type": "code",
   "execution_count": 331,
   "metadata": {},
   "outputs": [
    {
     "name": "stderr",
     "output_type": "stream",
     "text": [
      "/opt/conda/lib/python3.7/site-packages/ipykernel_launcher.py:8: SettingWithCopyWarning:\n",
      "\n",
      "\n",
      "A value is trying to be set on a copy of a slice from a DataFrame.\n",
      "Try using .loc[row_indexer,col_indexer] = value instead\n",
      "\n",
      "See the caveats in the documentation: https://pandas.pydata.org/pandas-docs/stable/user_guide/indexing.html#returning-a-view-versus-a-copy\n",
      "\n",
      "/opt/conda/lib/python3.7/site-packages/ipykernel_launcher.py:9: SettingWithCopyWarning:\n",
      "\n",
      "\n",
      "A value is trying to be set on a copy of a slice from a DataFrame.\n",
      "Try using .loc[row_indexer,col_indexer] = value instead\n",
      "\n",
      "See the caveats in the documentation: https://pandas.pydata.org/pandas-docs/stable/user_guide/indexing.html#returning-a-view-versus-a-copy\n",
      "\n",
      "/opt/conda/lib/python3.7/site-packages/ipykernel_launcher.py:10: SettingWithCopyWarning:\n",
      "\n",
      "\n",
      "A value is trying to be set on a copy of a slice from a DataFrame.\n",
      "Try using .loc[row_indexer,col_indexer] = value instead\n",
      "\n",
      "See the caveats in the documentation: https://pandas.pydata.org/pandas-docs/stable/user_guide/indexing.html#returning-a-view-versus-a-copy\n",
      "\n",
      "/opt/conda/lib/python3.7/site-packages/ipykernel_launcher.py:11: SettingWithCopyWarning:\n",
      "\n",
      "\n",
      "A value is trying to be set on a copy of a slice from a DataFrame.\n",
      "Try using .loc[row_indexer,col_indexer] = value instead\n",
      "\n",
      "See the caveats in the documentation: https://pandas.pydata.org/pandas-docs/stable/user_guide/indexing.html#returning-a-view-versus-a-copy\n",
      "\n",
      "/opt/conda/lib/python3.7/site-packages/ipykernel_launcher.py:12: SettingWithCopyWarning:\n",
      "\n",
      "\n",
      "A value is trying to be set on a copy of a slice from a DataFrame.\n",
      "Try using .loc[row_indexer,col_indexer] = value instead\n",
      "\n",
      "See the caveats in the documentation: https://pandas.pydata.org/pandas-docs/stable/user_guide/indexing.html#returning-a-view-versus-a-copy\n",
      "\n",
      "/opt/conda/lib/python3.7/site-packages/ipykernel_launcher.py:13: SettingWithCopyWarning:\n",
      "\n",
      "\n",
      "A value is trying to be set on a copy of a slice from a DataFrame.\n",
      "Try using .loc[row_indexer,col_indexer] = value instead\n",
      "\n",
      "See the caveats in the documentation: https://pandas.pydata.org/pandas-docs/stable/user_guide/indexing.html#returning-a-view-versus-a-copy\n",
      "\n",
      "/opt/conda/lib/python3.7/site-packages/ipykernel_launcher.py:14: SettingWithCopyWarning:\n",
      "\n",
      "\n",
      "A value is trying to be set on a copy of a slice from a DataFrame.\n",
      "Try using .loc[row_indexer,col_indexer] = value instead\n",
      "\n",
      "See the caveats in the documentation: https://pandas.pydata.org/pandas-docs/stable/user_guide/indexing.html#returning-a-view-versus-a-copy\n",
      "\n",
      "/opt/conda/lib/python3.7/site-packages/ipykernel_launcher.py:16: SettingWithCopyWarning:\n",
      "\n",
      "\n",
      "A value is trying to be set on a copy of a slice from a DataFrame.\n",
      "Try using .loc[row_indexer,col_indexer] = value instead\n",
      "\n",
      "See the caveats in the documentation: https://pandas.pydata.org/pandas-docs/stable/user_guide/indexing.html#returning-a-view-versus-a-copy\n",
      "\n",
      "/opt/conda/lib/python3.7/site-packages/ipykernel_launcher.py:17: SettingWithCopyWarning:\n",
      "\n",
      "\n",
      "A value is trying to be set on a copy of a slice from a DataFrame.\n",
      "Try using .loc[row_indexer,col_indexer] = value instead\n",
      "\n",
      "See the caveats in the documentation: https://pandas.pydata.org/pandas-docs/stable/user_guide/indexing.html#returning-a-view-versus-a-copy\n",
      "\n",
      "/opt/conda/lib/python3.7/site-packages/ipykernel_launcher.py:18: SettingWithCopyWarning:\n",
      "\n",
      "\n",
      "A value is trying to be set on a copy of a slice from a DataFrame.\n",
      "Try using .loc[row_indexer,col_indexer] = value instead\n",
      "\n",
      "See the caveats in the documentation: https://pandas.pydata.org/pandas-docs/stable/user_guide/indexing.html#returning-a-view-versus-a-copy\n",
      "\n",
      "/opt/conda/lib/python3.7/site-packages/ipykernel_launcher.py:19: SettingWithCopyWarning:\n",
      "\n",
      "\n",
      "A value is trying to be set on a copy of a slice from a DataFrame.\n",
      "Try using .loc[row_indexer,col_indexer] = value instead\n",
      "\n",
      "See the caveats in the documentation: https://pandas.pydata.org/pandas-docs/stable/user_guide/indexing.html#returning-a-view-versus-a-copy\n",
      "\n",
      "/opt/conda/lib/python3.7/site-packages/ipykernel_launcher.py:20: SettingWithCopyWarning:\n",
      "\n",
      "\n",
      "A value is trying to be set on a copy of a slice from a DataFrame.\n",
      "Try using .loc[row_indexer,col_indexer] = value instead\n",
      "\n",
      "See the caveats in the documentation: https://pandas.pydata.org/pandas-docs/stable/user_guide/indexing.html#returning-a-view-versus-a-copy\n",
      "\n"
     ]
    }
   ],
   "source": [
    "months = valid.index.month\n",
    "dummy_months = pd.get_dummies(months)\n",
    "dummy_months.columns = ['month-%s' % m for m in dummy_months.columns]\n",
    "dummy_months.index = valid.index\n",
    "\n",
    "\n",
    "\n",
    "valid['bitcoin_Price_prev_week'] = valid['bitcoin_Price'].shift(8)\n",
    "valid['bitcoin_Price_prev_month'] = valid['bitcoin_Price'].shift(31)\n",
    "valid['alibaba_Price_prev_month'] = valid['alibaba_Price'].shift(31)\n",
    "valid['alibaba_Price_prev_week'] = valid['alibaba_Price'].shift(8)\n",
    "valid['amazon_Price_prev_month'] = valid['amazon_Price'].shift(31)\n",
    "valid['googl_Price_prev_month'] = valid['googl_Price'].shift(31)\n",
    "valid['googl_Price_prev_week'] = valid['googl_Price'].shift(8)\n",
    "\n",
    "valid['bitcoin_trends_prev_month'] = valid['bitcoin_Google_Trends'].shift(31)\n",
    "valid['bitcoin_trends_prev_week'] = valid['bitcoin_Google_Trends'].shift(8)\n",
    "valid['cryptocurrency_trends_prev_month'] = valid['cryptocurrency_Google_Trends'].shift(31)\n",
    "valid['cryptocurrency_trends_prev_week'] = valid['cryptocurrency_Google_Trends'].shift(8)\n",
    "valid['economy_pos_prev_month'] = valid['economy_pos_sents'].shift(31)\n",
    "\n",
    "\n",
    "valid = pd.concat([valid, dummy_months], axis=1)\n",
    "\n",
    "#train.dropna(inplace=True)\n",
    "#valid.dropna(inplace=True)"
   ]
  },
  {
   "cell_type": "code",
   "execution_count": 332,
   "metadata": {},
   "outputs": [
    {
     "name": "stdout",
     "output_type": "stream",
     "text": [
      "                               SARIMAX Results                                \n",
      "==============================================================================\n",
      "Dep. Variable:          bitcoin_Price   No. Observations:                 1511\n",
      "Model:               SARIMAX(1, 0, 0)   Log Likelihood              -10338.946\n",
      "Date:                Wed, 01 Apr 2020   AIC                          20701.893\n",
      "Time:                        17:04:03   BIC                          20765.731\n",
      "Sample:                    01-08-2015   HQIC                         20725.667\n",
      "                         - 02-26-2019                                         \n",
      "Covariance Type:                  opg                                         \n",
      "====================================================================================================\n",
      "                                       coef    std err          z      P>|z|      [0.025      0.975]\n",
      "----------------------------------------------------------------------------------------------------\n",
      "bitcoin_Price_prev_week              0.0520      0.020      2.580      0.010       0.012       0.091\n",
      "bitcoin_Price_prev_month            -0.0399      0.028     -1.423      0.155      -0.095       0.015\n",
      "alibaba_Price_prev_week             -0.7868      3.369     -0.234      0.815      -7.391       5.817\n",
      "googl_Price_prev_month              -1.3380      0.224     -5.969      0.000      -1.777      -0.899\n",
      "bitcoin_trends_prev_week             0.1230      0.062      1.997      0.046       0.002       0.244\n",
      "bitcoin_trends_prev_month           -0.1625      0.094     -1.727      0.084      -0.347       0.022\n",
      "cryptocurrency_trends_prev_week     -0.7385      0.472     -1.566      0.117      -1.663       0.186\n",
      "cryptocurrency_trends_prev_month     1.7497      0.735      2.381      0.017       0.310       3.190\n",
      "month-1                           -172.5621    115.906     -1.489      0.137    -399.734      54.609\n",
      "month-2                            -14.7609    110.174     -0.134      0.893    -230.699     201.177\n",
      "ar.L1                                1.0001      0.001   1088.581      0.000       0.998       1.002\n",
      "sigma2                            8.155e+04   1644.126     49.604      0.000    7.83e+04    8.48e+04\n",
      "===================================================================================\n",
      "Ljung-Box (Q):                      278.32   Jarque-Bera (JB):            147820.09\n",
      "Prob(Q):                              0.00   Prob(JB):                         0.00\n",
      "Heteroskedasticity (H):              74.67   Skew:                             1.49\n",
      "Prob(H) (two-sided):                  0.00   Kurtosis:                        51.38\n",
      "===================================================================================\n",
      "\n",
      "Warnings:\n",
      "[1] Covariance matrix calculated using the outer product of gradients (complex-step).\n",
      "CPU times: user 8.42 s, sys: 25.9 s, total: 34.3 s\n",
      "Wall time: 4.31 s\n"
     ]
    },
    {
     "name": "stderr",
     "output_type": "stream",
     "text": [
      "/opt/conda/lib/python3.7/site-packages/statsmodels/base/model.py:568: ConvergenceWarning:\n",
      "\n",
      "Maximum Likelihood optimization failed to converge. Check mle_retvals\n",
      "\n"
     ]
    }
   ],
   "source": [
    "%%time\n",
    "s1i1 = train['bitcoin_Price']\n",
    "exog_s1i1 = train[[\n",
    "                   'bitcoin_Price_prev_week',\n",
    "                   'bitcoin_Price_prev_month',\n",
    "                   'alibaba_Price_prev_week',\n",
    "                   #'alibaba_Price_prev_month',\n",
    "                   #'amazon_Price_prev_month',\n",
    "                   'googl_Price_prev_month',\n",
    "                   'bitcoin_trends_prev_week',\n",
    "                   'bitcoin_trends_prev_month',\n",
    "                   'cryptocurrency_trends_prev_week',\n",
    "                   'cryptocurrency_trends_prev_month',\n",
    "                   'month-1', 'month-2',\n",
    "                   ]].fillna(0)\n",
    "    \n",
    "\n",
    "arimax = sm.tsa.statespace.SARIMAX(s1i1, exog=exog_s1i1,\n",
    "                                   enforce_invertibility=False, enforce_stationarity=False, freq='D').fit()\n",
    "print(arimax.summary())"
   ]
  },
  {
   "cell_type": "code",
   "execution_count": 333,
   "metadata": {},
   "outputs": [
    {
     "data": {
      "image/png": "[encoded data removed]",
      "text/plain": [
       "<Figure size 432x288 with 1 Axes>"
      ]
     },
     "metadata": {
      "needs_background": "light"
     },
     "output_type": "display_data"
    }
   ],
   "source": [
    "\n",
    "\n",
    "exog = train[[\n",
    "                   'bitcoin_Price_prev_week',\n",
    "                   'bitcoin_Price_prev_month',\n",
    "                   'alibaba_Price_prev_week',\n",
    "                   #'alibaba_Price_prev_month',\n",
    "                   #'amazon_Price_prev_month',\n",
    "                   'googl_Price_prev_month',\n",
    "                   'bitcoin_trends_prev_week',\n",
    "                   'bitcoin_trends_prev_month',\n",
    "                   'cryptocurrency_trends_prev_week',\n",
    "                   'cryptocurrency_trends_prev_month',\n",
    "                   'month-1', 'month-2'\n",
    "                   ]].fillna(0)\n",
    "forecast =  arimax.predict( dynamic=True, exog=exog)\n",
    "actual = train[\"bitcoin_Price\"]\n",
    "\n",
    "forecast.plot()\n",
    "actual.plot()\n",
    "plt.legend(['ARIMAX', 'Actual'])\n",
    "plt.ylabel('Sales');\n",
    "\n"
   ]
  },
  {
   "cell_type": "code",
   "execution_count": 334,
   "metadata": {},
   "outputs": [],
   "source": [
    "exog = valid[[\n",
    "                   'bitcoin_Price_prev_week',\n",
    "                   'bitcoin_Price_prev_month',\n",
    "                   'alibaba_Price_prev_week',\n",
    "                   #'alibaba_Price_prev_month',\n",
    "                   #'amazon_Price_prev_month',\n",
    "                   'googl_Price_prev_month',\n",
    "                   'bitcoin_trends_prev_week',\n",
    "                   'bitcoin_trends_prev_month',\n",
    "                   'cryptocurrency_trends_prev_week',\n",
    "                   'cryptocurrency_trends_prev_month',\n",
    "                   'month-1', 'month-2'\n",
    "                   ]].fillna(0)"
   ]
  },
  {
   "cell_type": "code",
   "execution_count": 335,
   "metadata": {},
   "outputs": [],
   "source": [
    "forecast = arimax.get_forecast(steps=len(valid), exog=exog)"
   ]
  },
  {
   "cell_type": "code",
   "execution_count": 336,
   "metadata": {},
   "outputs": [
    {
     "data": {
      "text/plain": [
       "<matplotlib.axes._subplots.AxesSubplot at 0x7fdf9f8ab050>"
      ]
     },
     "execution_count": 336,
     "metadata": {},
     "output_type": "execute_result"
    },
    {
     "data": {
      "image/png": "[encoded data removed]",
      "text/plain": [
       "<Figure size 432x288 with 1 Axes>"
      ]
     },
     "metadata": {
      "needs_background": "light"
     },
     "output_type": "display_data"
    }
   ],
   "source": [
    "forecast.predicted_mean.plot()\n",
    "#valid[\"bitcoin_Price\"].plot()"
   ]
  },
  {
   "cell_type": "code",
   "execution_count": 337,
   "metadata": {},
   "outputs": [
    {
     "data": {
      "text/plain": [
       "<matplotlib.axes._subplots.AxesSubplot at 0x7fdf9f815410>"
      ]
     },
     "execution_count": 337,
     "metadata": {},
     "output_type": "execute_result"
    },
    {
     "data": {
      "image/png": "[encoded data removed]",
      "text/plain": [
       "<Figure size 432x288 with 1 Axes>"
      ]
     },
     "metadata": {
      "needs_background": "light"
     },
     "output_type": "display_data"
    }
   ],
   "source": [
    "valid[\"bitcoin_Price\"].plot()"
   ]
  },
  {
   "cell_type": "code",
   "execution_count": 338,
   "metadata": {},
   "outputs": [
    {
     "data": {
      "text/plain": [
       "4981.2072043243525"
      ]
     },
     "execution_count": 338,
     "metadata": {},
     "output_type": "execute_result"
    }
   ],
   "source": [
    "sqrt(mean_squared_error(forecast.predicted_mean, valid[\"bitcoin_Price\"]))"
   ]
  },
  {
   "cell_type": "code",
   "execution_count": 339,
   "metadata": {},
   "outputs": [],
   "source": [
    "var_forecast = pd.read_csv(\"var_pred.csv\")"
   ]
  },
  {
   "cell_type": "code",
   "execution_count": 342,
   "metadata": {},
   "outputs": [],
   "source": [
    "test = var_forecast[\"bitcoin_Price\"] + forecast.predicted_mean\n"
   ]
  },
  {
   "cell_type": "code",
   "execution_count": 344,
   "metadata": {},
   "outputs": [
    {
     "data": {
      "text/plain": [
       "2019-02-27    5257.893395\n",
       "2019-02-28    5258.446700\n",
       "2019-03-01    5273.761003\n",
       "2019-03-02    5274.314424\n",
       "2019-03-03    5274.867904\n",
       "                 ...     \n",
       "2020-03-06    3420.786593\n",
       "2020-03-07    3382.361381\n",
       "2020-03-08    3324.443316\n",
       "2020-03-09    3335.801182\n",
       "2020-03-10    3318.686180\n",
       "Freq: D, Length: 378, dtype: float64"
      ]
     },
     "execution_count": 344,
     "metadata": {},
     "output_type": "execute_result"
    }
   ],
   "source": [
    "forecast.predicted_mean"
   ]
  },
  {
   "cell_type": "code",
   "execution_count": 350,
   "metadata": {},
   "outputs": [
    {
     "data": {
      "text/plain": [
       "[<matplotlib.lines.Line2D at 0x7fdf9f2c25d0>]"
      ]
     },
     "execution_count": 350,
     "metadata": {},
     "output_type": "execute_result"
    },
    {
     "data": {
      "image/png": "[encoded data removed]",
      "text/plain": [
       "<Figure size 432x288 with 1 Axes>"
      ]
     },
     "metadata": {
      "needs_background": "light"
     },
     "output_type": "display_data"
    }
   ],
   "source": [
    "plt.plot(var_forecast[\"bitcoin_Price\"].values + forecast.predicted_mean[:255].values)"
   ]
  },
  {
   "cell_type": "code",
   "execution_count": 352,
   "metadata": {},
   "outputs": [
    {
     "data": {
      "text/plain": [
       "<matplotlib.axes._subplots.AxesSubplot at 0x7fdf9ed36bd0>"
      ]
     },
     "execution_count": 352,
     "metadata": {},
     "output_type": "execute_result"
    },
    {
     "data": {
      "image/png": "[encoded data removed]",
      "text/plain": [
       "<Figure size 432x288 with 1 Axes>"
      ]
     },
     "metadata": {
      "needs_background": "light"
     },
     "output_type": "display_data"
    }
   ],
   "source": [
    "valid['bitcoin_Price'][:255].plot()"
   ]
  },
  {
   "cell_type": "code",
   "execution_count": 353,
   "metadata": {},
   "outputs": [
    {
     "data": {
      "text/plain": [
       "4174.072373632708"
      ]
     },
     "execution_count": 353,
     "metadata": {},
     "output_type": "execute_result"
    }
   ],
   "source": [
    "sqrt(mean_squared_error((var_forecast[\"bitcoin_Price\"].values + forecast.predicted_mean[:255].values), valid[\"bitcoin_Price\"][:255]))"
   ]
  },
  {
   "cell_type": "code",
   "execution_count": null,
   "metadata": {},
   "outputs": [],
   "source": []
  }
 ],
 "metadata": {
  "kernelspec": {
   "display_name": "Python 3",
   "language": "python",
   "name": "python3"
  },
  "language_info": {
   "codemirror_mode": {
    "name": "ipython",
    "version": 3
   },
   "file_extension": ".py",
   "mimetype": "text/x-python",
   "name": "python",
   "nbconvert_exporter": "python",
   "pygments_lexer": "ipython3",
   "version": "3.7.6"
  }
 },
 "nbformat": 4,
 "nbformat_minor": 4
}
