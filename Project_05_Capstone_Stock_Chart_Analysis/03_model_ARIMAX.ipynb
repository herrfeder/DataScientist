{
 "cells": [
  {
   "cell_type": "markdown",
   "metadata": {},
   "source": [
    "https://www.kaggle.com/viridisquotient/arimax"
   ]
  },
  {
   "cell_type": "code",
   "execution_count": 2,
   "metadata": {},
   "outputs": [],
   "source": [
    "import data_prep_helper\n",
    "import statsmodels.api as sm\n",
    "import pandas as pd\n",
    "from math import sqrt\n",
    "from sklearn.metrics import mean_squared_error\n",
    "import plotly.graph_objects as go\n",
    "from plotly.subplots import make_subplots\n",
    "import numpy as np\n",
    "import matplotlib.pyplot as plt"
   ]
  },
  {
   "cell_type": "code",
   "execution_count": 3,
   "metadata": {},
   "outputs": [],
   "source": [
    "do = data_prep_helper.ChartData()"
   ]
  },
  {
   "cell_type": "code",
   "execution_count": 2,
   "metadata": {},
   "outputs": [],
   "source": [
    "do.apply_boll_bands(\"bitcoin_hist\", append_chart=True)"
   ]
  },
  {
   "cell_type": "code",
   "execution_count": 4,
   "metadata": {},
   "outputs": [],
   "source": [
    "corr_df = do.chart_df\n"
   ]
  },
  {
   "cell_type": "code",
   "execution_count": 5,
   "metadata": {},
   "outputs": [],
   "source": [
    "corr_df = corr_df.resample('D').interpolate()"
   ]
  },
  {
   "cell_type": "code",
   "execution_count": 6,
   "metadata": {},
   "outputs": [],
   "source": [
    "#creating the train and validation set\n",
    "train = corr_df[:int(0.8*(len(corr_df)))]\n",
    "valid = corr_df[int(0.8*(len(corr_df))):]"
   ]
  },
  {
   "cell_type": "code",
   "execution_count": 7,
   "metadata": {},
   "outputs": [
    {
     "name": "stderr",
     "output_type": "stream",
     "text": [
      "/opt/conda/lib/python3.7/site-packages/ipykernel_launcher.py:8: SettingWithCopyWarning:\n",
      "\n",
      "\n",
      "A value is trying to be set on a copy of a slice from a DataFrame.\n",
      "Try using .loc[row_indexer,col_indexer] = value instead\n",
      "\n",
      "See the caveats in the documentation: https://pandas.pydata.org/pandas-docs/stable/user_guide/indexing.html#returning-a-view-versus-a-copy\n",
      "\n",
      "/opt/conda/lib/python3.7/site-packages/ipykernel_launcher.py:9: SettingWithCopyWarning:\n",
      "\n",
      "\n",
      "A value is trying to be set on a copy of a slice from a DataFrame.\n",
      "Try using .loc[row_indexer,col_indexer] = value instead\n",
      "\n",
      "See the caveats in the documentation: https://pandas.pydata.org/pandas-docs/stable/user_guide/indexing.html#returning-a-view-versus-a-copy\n",
      "\n",
      "/opt/conda/lib/python3.7/site-packages/ipykernel_launcher.py:10: SettingWithCopyWarning:\n",
      "\n",
      "\n",
      "A value is trying to be set on a copy of a slice from a DataFrame.\n",
      "Try using .loc[row_indexer,col_indexer] = value instead\n",
      "\n",
      "See the caveats in the documentation: https://pandas.pydata.org/pandas-docs/stable/user_guide/indexing.html#returning-a-view-versus-a-copy\n",
      "\n",
      "/opt/conda/lib/python3.7/site-packages/ipykernel_launcher.py:11: SettingWithCopyWarning:\n",
      "\n",
      "\n",
      "A value is trying to be set on a copy of a slice from a DataFrame.\n",
      "Try using .loc[row_indexer,col_indexer] = value instead\n",
      "\n",
      "See the caveats in the documentation: https://pandas.pydata.org/pandas-docs/stable/user_guide/indexing.html#returning-a-view-versus-a-copy\n",
      "\n",
      "/opt/conda/lib/python3.7/site-packages/ipykernel_launcher.py:12: SettingWithCopyWarning:\n",
      "\n",
      "\n",
      "A value is trying to be set on a copy of a slice from a DataFrame.\n",
      "Try using .loc[row_indexer,col_indexer] = value instead\n",
      "\n",
      "See the caveats in the documentation: https://pandas.pydata.org/pandas-docs/stable/user_guide/indexing.html#returning-a-view-versus-a-copy\n",
      "\n",
      "/opt/conda/lib/python3.7/site-packages/ipykernel_launcher.py:13: SettingWithCopyWarning:\n",
      "\n",
      "\n",
      "A value is trying to be set on a copy of a slice from a DataFrame.\n",
      "Try using .loc[row_indexer,col_indexer] = value instead\n",
      "\n",
      "See the caveats in the documentation: https://pandas.pydata.org/pandas-docs/stable/user_guide/indexing.html#returning-a-view-versus-a-copy\n",
      "\n",
      "/opt/conda/lib/python3.7/site-packages/ipykernel_launcher.py:14: SettingWithCopyWarning:\n",
      "\n",
      "\n",
      "A value is trying to be set on a copy of a slice from a DataFrame.\n",
      "Try using .loc[row_indexer,col_indexer] = value instead\n",
      "\n",
      "See the caveats in the documentation: https://pandas.pydata.org/pandas-docs/stable/user_guide/indexing.html#returning-a-view-versus-a-copy\n",
      "\n",
      "/opt/conda/lib/python3.7/site-packages/pandas/core/frame.py:4150: SettingWithCopyWarning:\n",
      "\n",
      "\n",
      "A value is trying to be set on a copy of a slice from a DataFrame\n",
      "\n",
      "See the caveats in the documentation: https://pandas.pydata.org/pandas-docs/stable/user_guide/indexing.html#returning-a-view-versus-a-copy\n",
      "\n"
     ]
    }
   ],
   "source": [
    "months = train.index.month\n",
    "dummy_months = pd.get_dummies(months)\n",
    "dummy_months.columns = ['month-%s' % m for m in dummy_months.columns]\n",
    "dummy_months.index = train.index\n",
    "\n",
    "\n",
    "\n",
    "train['bitcoin_Price_prev_month'] = train['bitcoin_Price'].shift(31)\n",
    "train['alibaba_Price_prev_month'] = train['alibaba_Price'].shift(31)\n",
    "train['amazon_Price_prev_month'] = train['amazon_Price'].shift(31)\n",
    "train['googl_Price_prev_month'] = train['googl_Price'].shift(31)\n",
    "train['bitcoin_trends_prev_month'] = train['bitcoin_Google_Trends'].shift(31)\n",
    "train['cryptocurrency_trends_prev_month'] = train['cryptocurrency_Google_Trends'].shift(31)\n",
    "train['economy_pos_prev_month'] = train['economy_pos_sents'].shift(31)\n",
    "\n",
    "\n",
    "train.fillna(0, inplace=True)\n",
    " \n",
    "train = pd.concat([train, dummy_months], axis=1)"
   ]
  },
  {
   "cell_type": "code",
   "execution_count": 8,
   "metadata": {},
   "outputs": [
    {
     "name": "stderr",
     "output_type": "stream",
     "text": [
      "/opt/conda/lib/python3.7/site-packages/ipykernel_launcher.py:6: SettingWithCopyWarning:\n",
      "\n",
      "\n",
      "A value is trying to be set on a copy of a slice from a DataFrame.\n",
      "Try using .loc[row_indexer,col_indexer] = value instead\n",
      "\n",
      "See the caveats in the documentation: https://pandas.pydata.org/pandas-docs/stable/user_guide/indexing.html#returning-a-view-versus-a-copy\n",
      "\n",
      "/opt/conda/lib/python3.7/site-packages/ipykernel_launcher.py:7: SettingWithCopyWarning:\n",
      "\n",
      "\n",
      "A value is trying to be set on a copy of a slice from a DataFrame.\n",
      "Try using .loc[row_indexer,col_indexer] = value instead\n",
      "\n",
      "See the caveats in the documentation: https://pandas.pydata.org/pandas-docs/stable/user_guide/indexing.html#returning-a-view-versus-a-copy\n",
      "\n",
      "/opt/conda/lib/python3.7/site-packages/ipykernel_launcher.py:8: SettingWithCopyWarning:\n",
      "\n",
      "\n",
      "A value is trying to be set on a copy of a slice from a DataFrame.\n",
      "Try using .loc[row_indexer,col_indexer] = value instead\n",
      "\n",
      "See the caveats in the documentation: https://pandas.pydata.org/pandas-docs/stable/user_guide/indexing.html#returning-a-view-versus-a-copy\n",
      "\n",
      "/opt/conda/lib/python3.7/site-packages/ipykernel_launcher.py:10: SettingWithCopyWarning:\n",
      "\n",
      "\n",
      "A value is trying to be set on a copy of a slice from a DataFrame.\n",
      "Try using .loc[row_indexer,col_indexer] = value instead\n",
      "\n",
      "See the caveats in the documentation: https://pandas.pydata.org/pandas-docs/stable/user_guide/indexing.html#returning-a-view-versus-a-copy\n",
      "\n",
      "/opt/conda/lib/python3.7/site-packages/ipykernel_launcher.py:11: SettingWithCopyWarning:\n",
      "\n",
      "\n",
      "A value is trying to be set on a copy of a slice from a DataFrame.\n",
      "Try using .loc[row_indexer,col_indexer] = value instead\n",
      "\n",
      "See the caveats in the documentation: https://pandas.pydata.org/pandas-docs/stable/user_guide/indexing.html#returning-a-view-versus-a-copy\n",
      "\n",
      "/opt/conda/lib/python3.7/site-packages/ipykernel_launcher.py:12: SettingWithCopyWarning:\n",
      "\n",
      "\n",
      "A value is trying to be set on a copy of a slice from a DataFrame.\n",
      "Try using .loc[row_indexer,col_indexer] = value instead\n",
      "\n",
      "See the caveats in the documentation: https://pandas.pydata.org/pandas-docs/stable/user_guide/indexing.html#returning-a-view-versus-a-copy\n",
      "\n",
      "/opt/conda/lib/python3.7/site-packages/ipykernel_launcher.py:13: SettingWithCopyWarning:\n",
      "\n",
      "\n",
      "A value is trying to be set on a copy of a slice from a DataFrame.\n",
      "Try using .loc[row_indexer,col_indexer] = value instead\n",
      "\n",
      "See the caveats in the documentation: https://pandas.pydata.org/pandas-docs/stable/user_guide/indexing.html#returning-a-view-versus-a-copy\n",
      "\n"
     ]
    }
   ],
   "source": [
    "months = valid.index.month\n",
    "dummy_months = pd.get_dummies(months)\n",
    "dummy_months.columns = ['month-%s' % m for m in dummy_months.columns]\n",
    "dummy_months.index = valid.index\n",
    "\n",
    "valid['bitcoin_Price_prev_month'] = valid['bitcoin_Price'].shift(31)\n",
    "valid['alibaba_Price_prev_month'] = valid['alibaba_Price'].shift(31)\n",
    "valid['amazon_Price_prev_month'] = valid['amazon_Price'].shift(31)\n",
    "\n",
    "valid['googl_Price_prev_month'] = valid['googl_Price'].shift(31)\n",
    "valid['bitcoin_trends_prev_month'] = valid['bitcoin_Google_Trends'].shift(31)\n",
    "valid['cryptocurrency_trends_prev_month'] = valid['cryptocurrency_Google_Trends'].shift(31)\n",
    "valid['economy_pos_prev_month'] = valid['economy_pos_sents'].shift(31)\n",
    "\n",
    "\n",
    "valid = pd.concat([valid, dummy_months], axis=1)\n",
    "#train.dropna(inplace=True)\n",
    "#valid.dropna(inplace=True)"
   ]
  },
  {
   "cell_type": "code",
   "execution_count": 25,
   "metadata": {},
   "outputs": [
    {
     "name": "stdout",
     "output_type": "stream",
     "text": [
      "                               SARIMAX Results                                \n",
      "==============================================================================\n",
      "Dep. Variable:          bitcoin_Price   No. Observations:                 1511\n",
      "Model:               SARIMAX(1, 0, 0)   Log Likelihood              -10574.417\n",
      "Date:                Tue, 31 Mar 2020   AIC                          21168.833\n",
      "Time:                        20:40:01   BIC                          21222.032\n",
      "Sample:                    01-08-2015   HQIC                         21188.645\n",
      "                         - 02-26-2019                                         \n",
      "Covariance Type:                  opg                                         \n",
      "====================================================================================================\n",
      "                                       coef    std err          z      P>|z|      [0.025      0.975]\n",
      "----------------------------------------------------------------------------------------------------\n",
      "bitcoin_Price_prev_month            -0.0562      0.041     -1.367      0.172      -0.137       0.024\n",
      "alibaba_Price_prev_month            36.0388      5.923      6.084      0.000      24.429      47.648\n",
      "amazon_Price_prev_month              0.6644      1.324      0.502      0.616      -1.930       3.258\n",
      "googl_Price_prev_month              -6.6723      1.284     -5.198      0.000      -9.188      -4.156\n",
      "bitcoin_trends_prev_month           -0.0969      0.124     -0.781      0.435      -0.340       0.146\n",
      "cryptocurrency_trends_prev_month     1.0219      0.956      1.069      0.285      -0.851       2.895\n",
      "month-1                           -170.3476    132.214     -1.288      0.198    -429.483      88.787\n",
      "month-2                           -735.9296    109.497     -6.721      0.000    -950.539    -521.320\n",
      "ar.L1                                0.9994      0.001    723.552      0.000       0.997       1.002\n",
      "sigma2                             1.33e+05   2887.452     46.061      0.000    1.27e+05    1.39e+05\n",
      "===================================================================================\n",
      "Ljung-Box (Q):                      254.88   Jarque-Bera (JB):            101155.00\n",
      "Prob(Q):                              0.00   Prob(JB):                         0.00\n",
      "Heteroskedasticity (H):              19.61   Skew:                             1.36\n",
      "Prob(H) (two-sided):                  0.00   Kurtosis:                        43.00\n",
      "===================================================================================\n",
      "\n",
      "Warnings:\n",
      "[1] Covariance matrix calculated using the outer product of gradients (complex-step).\n",
      "CPU times: user 6.02 s, sys: 19.3 s, total: 25.4 s\n",
      "Wall time: 3.2 s\n"
     ]
    },
    {
     "name": "stderr",
     "output_type": "stream",
     "text": [
      "/opt/conda/lib/python3.7/site-packages/statsmodels/base/model.py:568: ConvergenceWarning:\n",
      "\n",
      "Maximum Likelihood optimization failed to converge. Check mle_retvals\n",
      "\n"
     ]
    }
   ],
   "source": [
    "%%time\n",
    "s1i1 = train['bitcoin_Price']\n",
    "exog_s1i1 = train[[\n",
    "                   'bitcoin_Price_prev_month',\n",
    "                   'alibaba_Price_prev_month',\n",
    "                   'amazon_Price_prev_month',\n",
    "                   'googl_Price_prev_month',\n",
    "                   'bitcoin_trends_prev_month',\n",
    "                   'cryptocurrency_trends_prev_month',\n",
    "                   'month-1', 'month-2'\n",
    "                   ]].fillna(0)\n",
    "    \n",
    "\n",
    "arimax = sm.tsa.statespace.SARIMAX(s1i1, exog=exog_s1i1,\n",
    "                                   enforce_invertibility=False, enforce_stationarity=False, freq='D').fit()\n",
    "print(arimax.summary())"
   ]
  },
  {
   "cell_type": "code",
   "execution_count": 27,
   "metadata": {},
   "outputs": [
    {
     "data": {
      "image/png": "[encoded data removed]",
      "text/plain": [
       "<Figure size 432x288 with 1 Axes>"
      ]
     },
     "metadata": {
      "needs_background": "light"
     },
     "output_type": "display_data"
    }
   ],
   "source": [
    "\n",
    "\n",
    "exog = train[[\n",
    "                   'bitcoin_Price_prev_month',\n",
    "                   'alibaba_Price_prev_month',\n",
    "                   'amazon_Price_prev_month',\n",
    "                   'googl_Price_prev_month',\n",
    "                   'bitcoin_trends_prev_month',\n",
    "                   'cryptocurrency_trends_prev_month',\n",
    "                   'month-1', 'month-2'\n",
    "                   ]].fillna(0)\n",
    "\n",
    "forecast =  arimax.predict( dynamic=True, exog=exog)\n",
    "actual = train[\"bitcoin_Price\"]\n",
    "\n",
    "forecast.plot()\n",
    "actual.plot()\n",
    "plt.legend(['ARIMAX', 'Actual'])\n",
    "plt.ylabel('Sales');\n",
    "\n"
   ]
  },
  {
   "cell_type": "code",
   "execution_count": 30,
   "metadata": {},
   "outputs": [],
   "source": [
    "exog = valid[[\n",
    "                   'bitcoin_Price_prev_month',\n",
    "                   'alibaba_Price_prev_month',\n",
    "                   'amazon_Price_prev_month',\n",
    "                   'googl_Price_prev_month',\n",
    "                   'bitcoin_trends_prev_month',\n",
    "                   'cryptocurrency_trends_prev_month',\n",
    "                   'month-1', 'month-2'\n",
    "                   ]].fillna(0)"
   ]
  },
  {
   "cell_type": "code",
   "execution_count": 31,
   "metadata": {},
   "outputs": [],
   "source": [
    "forecast = arimax.get_forecast(steps=len(valid), exog=exog)"
   ]
  },
  {
   "cell_type": "code",
   "execution_count": 32,
   "metadata": {},
   "outputs": [
    {
     "data": {
      "text/plain": [
       "<matplotlib.axes._subplots.AxesSubplot at 0x7fdfa5f4e050>"
      ]
     },
     "execution_count": 32,
     "metadata": {},
     "output_type": "execute_result"
    },
    {
     "data": {
      "image/png": "[encoded data removed]",
      "text/plain": [
       "<Figure size 432x288 with 1 Axes>"
      ]
     },
     "metadata": {
      "needs_background": "light"
     },
     "output_type": "display_data"
    }
   ],
   "source": [
    "forecast.predicted_mean.plot()\n",
    "valid[\"bitcoin_Price\"].plot()"
   ]
  },
  {
   "cell_type": "code",
   "execution_count": 33,
   "metadata": {},
   "outputs": [
    {
     "data": {
      "text/plain": [
       "5202.642429637899"
      ]
     },
     "execution_count": 33,
     "metadata": {},
     "output_type": "execute_result"
    }
   ],
   "source": [
    "sqrt(mean_squared_error(forecast.predicted_mean, valid[\"bitcoin_Price\"]))"
   ]
  },
  {
   "cell_type": "code",
   "execution_count": null,
   "metadata": {},
   "outputs": [],
   "source": []
  },
  {
   "cell_type": "code",
   "execution_count": null,
   "metadata": {},
   "outputs": [],
   "source": []
  }
 ],
 "metadata": {
  "kernelspec": {
   "display_name": "Python 3",
   "language": "python",
   "name": "python3"
  },
  "language_info": {
   "codemirror_mode": {
    "name": "ipython",
    "version": 3
   },
   "file_extension": ".py",
   "mimetype": "text/x-python",
   "name": "python",
   "nbconvert_exporter": "python",
   "pygments_lexer": "ipython3",
   "version": "3.7.6"
  }
 },
 "nbformat": 4,
 "nbformat_minor": 4
}
