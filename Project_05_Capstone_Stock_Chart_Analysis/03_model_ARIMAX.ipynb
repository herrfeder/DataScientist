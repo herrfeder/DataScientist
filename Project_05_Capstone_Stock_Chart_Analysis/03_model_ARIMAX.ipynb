{
 "cells": [
  {
   "cell_type": "markdown",
   "metadata": {},
   "source": [
    "https://www.kaggle.com/viridisquotient/arimax"
   ]
  },
  {
   "cell_type": "code",
   "execution_count": 64,
   "metadata": {},
   "outputs": [],
   "source": [
    "import data_prep_helper\n",
    "import statsmodels.api as sm\n",
    "import pandas as pd\n",
    "from math import sqrt\n",
    "from sklearn.metrics import mean_squared_error\n",
    "import plotly.graph_objects as go\n",
    "from plotly.subplots import make_subplots\n",
    "import numpy as np\n",
    "import matplotlib.pyplot as plt"
   ]
  },
  {
   "cell_type": "code",
   "execution_count": 65,
   "metadata": {},
   "outputs": [],
   "source": [
    "do = data_prep_helper.ChartData()\n",
    "do.apply_boll_bands(\"bitcoin_hist\", append_chart=True)"
   ]
  },
  {
   "cell_type": "code",
   "execution_count": 66,
   "metadata": {},
   "outputs": [],
   "source": [
    "corr_df = do.chart_df\n"
   ]
  },
  {
   "cell_type": "code",
   "execution_count": 67,
   "metadata": {},
   "outputs": [],
   "source": [
    "corr_df = corr_df.resample('D').interpolate()"
   ]
  },
  {
   "cell_type": "code",
   "execution_count": 68,
   "metadata": {},
   "outputs": [],
   "source": [
    "#creating the train and validation set\n",
    "train = corr_df[:int(0.8*(len(corr_df)))]\n",
    "valid = corr_df[int(0.8*(len(corr_df))):]"
   ]
  },
  {
   "cell_type": "code",
   "execution_count": 69,
   "metadata": {},
   "outputs": [
    {
     "name": "stderr",
     "output_type": "stream",
     "text": [
      "/opt/conda/lib/python3.7/site-packages/ipykernel_launcher.py:6: SettingWithCopyWarning:\n",
      "\n",
      "\n",
      "A value is trying to be set on a copy of a slice from a DataFrame.\n",
      "Try using .loc[row_indexer,col_indexer] = value instead\n",
      "\n",
      "See the caveats in the documentation: https://pandas.pydata.org/pandas-docs/stable/user_guide/indexing.html#returning-a-view-versus-a-copy\n",
      "\n",
      "/opt/conda/lib/python3.7/site-packages/ipykernel_launcher.py:7: SettingWithCopyWarning:\n",
      "\n",
      "\n",
      "A value is trying to be set on a copy of a slice from a DataFrame.\n",
      "Try using .loc[row_indexer,col_indexer] = value instead\n",
      "\n",
      "See the caveats in the documentation: https://pandas.pydata.org/pandas-docs/stable/user_guide/indexing.html#returning-a-view-versus-a-copy\n",
      "\n",
      "/opt/conda/lib/python3.7/site-packages/ipykernel_launcher.py:8: SettingWithCopyWarning:\n",
      "\n",
      "\n",
      "A value is trying to be set on a copy of a slice from a DataFrame.\n",
      "Try using .loc[row_indexer,col_indexer] = value instead\n",
      "\n",
      "See the caveats in the documentation: https://pandas.pydata.org/pandas-docs/stable/user_guide/indexing.html#returning-a-view-versus-a-copy\n",
      "\n",
      "/opt/conda/lib/python3.7/site-packages/ipykernel_launcher.py:10: SettingWithCopyWarning:\n",
      "\n",
      "\n",
      "A value is trying to be set on a copy of a slice from a DataFrame.\n",
      "Try using .loc[row_indexer,col_indexer] = value instead\n",
      "\n",
      "See the caveats in the documentation: https://pandas.pydata.org/pandas-docs/stable/user_guide/indexing.html#returning-a-view-versus-a-copy\n",
      "\n",
      "/opt/conda/lib/python3.7/site-packages/ipykernel_launcher.py:11: SettingWithCopyWarning:\n",
      "\n",
      "\n",
      "A value is trying to be set on a copy of a slice from a DataFrame.\n",
      "Try using .loc[row_indexer,col_indexer] = value instead\n",
      "\n",
      "See the caveats in the documentation: https://pandas.pydata.org/pandas-docs/stable/user_guide/indexing.html#returning-a-view-versus-a-copy\n",
      "\n",
      "/opt/conda/lib/python3.7/site-packages/ipykernel_launcher.py:12: SettingWithCopyWarning:\n",
      "\n",
      "\n",
      "A value is trying to be set on a copy of a slice from a DataFrame.\n",
      "Try using .loc[row_indexer,col_indexer] = value instead\n",
      "\n",
      "See the caveats in the documentation: https://pandas.pydata.org/pandas-docs/stable/user_guide/indexing.html#returning-a-view-versus-a-copy\n",
      "\n"
     ]
    }
   ],
   "source": [
    "#months = df_train.index.month\n",
    "#dummy_months = pd.get_dummies(months)\n",
    "#dummy_months.columns = ['month-%s' % m for m in dummy_months.columns]\n",
    "#dummy_months.index = df_train.index\n",
    "\n",
    "train['bitcoin_Price_prev_quarter'] = train['bitcoin_Price'].shift(91)\n",
    "train['bitcoin_Price_prev_month'] = train['bitcoin_Price'].shift(31)\n",
    "train['bitcoin_Price_prev_week'] = train['bitcoin_Price'].shift(8)\n",
    "\n",
    "valid['bitcoin_Price_prev_quarter'] = valid['bitcoin_Price'].shift(91)\n",
    "valid['bitcoin_Price_prev_month'] = valid['bitcoin_Price'].shift(31)\n",
    "valid['bitcoin_Price_prev_week'] = valid['bitcoin_Price'].shift(8)\n",
    "\n",
    "\n",
    "#df_train = pd.concat([df_train, dummy_months], axis=1)\n",
    "#train.dropna(inplace=True)\n",
    "#valid.dropna(inplace=True)"
   ]
  },
  {
   "cell_type": "code",
   "execution_count": 71,
   "metadata": {},
   "outputs": [
    {
     "name": "stdout",
     "output_type": "stream",
     "text": [
      "                               SARIMAX Results                                \n",
      "==============================================================================\n",
      "Dep. Variable:          bitcoin_Price   No. Observations:                 1511\n",
      "Model:               SARIMAX(1, 0, 0)   Log Likelihood              -10326.279\n",
      "Date:                Mon, 30 Mar 2020   AIC                          20666.557\n",
      "Time:                        20:35:02   BIC                          20703.796\n",
      "Sample:                    01-08-2015   HQIC                         20680.425\n",
      "                         - 02-26-2019                                         \n",
      "Covariance Type:                  opg                                         \n",
      "==============================================================================================\n",
      "                                 coef    std err          z      P>|z|      [0.025      0.975]\n",
      "----------------------------------------------------------------------------------------------\n",
      "bitcoin_Price_prev_quarter     0.0133      0.020      0.677      0.499      -0.025       0.052\n",
      "bitcoin_Price_prev_month      -0.0934      0.027     -3.497      0.000      -0.146      -0.041\n",
      "bitcoin_Price_prev_week       -0.0242      0.016     -1.555      0.120      -0.055       0.006\n",
      "bitcoin_Google_Trends          0.0943      0.024      3.961      0.000       0.048       0.141\n",
      "googl_Price                    2.8772      0.765      3.762      0.000       1.378       4.376\n",
      "ar.L1                          1.0002      0.001    927.018      0.000       0.998       1.002\n",
      "sigma2                      7.726e+04   1055.091     73.226      0.000    7.52e+04    7.93e+04\n",
      "===================================================================================\n",
      "Ljung-Box (Q):                      296.50   Jarque-Bera (JB):            148460.20\n",
      "Prob(Q):                              0.00   Prob(JB):                         0.00\n",
      "Heteroskedasticity (H):             165.69   Skew:                             1.31\n",
      "Prob(H) (two-sided):                  0.00   Kurtosis:                        51.51\n",
      "===================================================================================\n",
      "\n",
      "Warnings:\n",
      "[1] Covariance matrix calculated using the outer product of gradients (complex-step).\n",
      "CPU times: user 1.54 s, sys: 400 ms, total: 1.94 s\n",
      "Wall time: 1.48 s\n"
     ]
    },
    {
     "name": "stderr",
     "output_type": "stream",
     "text": [
      "/opt/conda/lib/python3.7/site-packages/statsmodels/base/model.py:568: ConvergenceWarning:\n",
      "\n",
      "Maximum Likelihood optimization failed to converge. Check mle_retvals\n",
      "\n"
     ]
    }
   ],
   "source": [
    "%%time\n",
    "s1i1 = train['bitcoin_Price']\n",
    "exog_s1i1 = train[[\n",
    "                   'bitcoin_Price_prev_quarter', \n",
    "                   'bitcoin_Price_prev_month',\n",
    "                   'bitcoin_Price_prev_week',\n",
    "                   'bitcoin_Google_Trends', \n",
    "                   'googl_Price'\n",
    "                   ]].fillna(0)\n",
    "\n",
    "\n",
    "arimax = sm.tsa.statespace.SARIMAX(s1i1, exog=exog_s1i1,\n",
    "                                   enforce_invertibility=False, enforce_stationarity=False, freq='D').fit()\n",
    "print(arimax.summary())"
   ]
  },
  {
   "cell_type": "code",
   "execution_count": 72,
   "metadata": {},
   "outputs": [
    {
     "data": {
      "image/png": "[encoded data removed]",
      "text/plain": [
       "<Figure size 432x288 with 1 Axes>"
      ]
     },
     "metadata": {
      "needs_background": "light"
     },
     "output_type": "display_data"
    }
   ],
   "source": [
    "\n",
    "\n",
    "exog = train[[\n",
    "                   'bitcoin_Price_prev_quarter', \n",
    "                   'bitcoin_Price_prev_month',\n",
    "                   'bitcoin_Price_prev_week',\n",
    "                   'bitcoin_Google_Trends', \n",
    "                   'googl_Price'\n",
    "                   ]]\n",
    "forecast =  arimax.predict( dynamic=True, exog=exog)\n",
    "actual = train[\"bitcoin_Price\"]\n",
    "\n",
    "forecast.plot()\n",
    "actual.plot()\n",
    "plt.legend(['ARIMAX', 'Actual'])\n",
    "plt.ylabel('Sales');\n",
    "\n"
   ]
  },
  {
   "cell_type": "code",
   "execution_count": 73,
   "metadata": {},
   "outputs": [],
   "source": [
    "exog = valid[[\n",
    "                   'bitcoin_Price_prev_quarter', \n",
    "                   'bitcoin_Price_prev_month',\n",
    "                   'bitcoin_Price_prev_week',\n",
    "                   'bitcoin_Google_Trends', \n",
    "                   'googl_Price'\n",
    "                   ]].fillna(0)\n"
   ]
  },
  {
   "cell_type": "code",
   "execution_count": 74,
   "metadata": {},
   "outputs": [],
   "source": [
    "forecast = arimax.get_forecast(steps=len(valid), exog=exog)"
   ]
  },
  {
   "cell_type": "code",
   "execution_count": 75,
   "metadata": {},
   "outputs": [
    {
     "data": {
      "text/plain": [
       "<matplotlib.axes._subplots.AxesSubplot at 0x7f366d984c10>"
      ]
     },
     "execution_count": 75,
     "metadata": {},
     "output_type": "execute_result"
    },
    {
     "data": {
      "image/png": "[encoded data removed]",
      "text/plain": [
       "<Figure size 432x288 with 1 Axes>"
      ]
     },
     "metadata": {
      "needs_background": "light"
     },
     "output_type": "display_data"
    }
   ],
   "source": [
    "forecast.predicted_mean.plot()\n",
    "valid[\"bitcoin_Price\"].plot()"
   ]
  },
  {
   "cell_type": "code",
   "execution_count": 76,
   "metadata": {},
   "outputs": [
    {
     "data": {
      "text/plain": [
       "5084.412573850238"
      ]
     },
     "execution_count": 76,
     "metadata": {},
     "output_type": "execute_result"
    }
   ],
   "source": [
    "sqrt(mean_squared_error(forecast.predicted_mean, valid[\"bitcoin_Price\"]))"
   ]
  },
  {
   "cell_type": "code",
   "execution_count": null,
   "metadata": {},
   "outputs": [],
   "source": []
  }
 ],
 "metadata": {
  "kernelspec": {
   "display_name": "Python 3",
   "language": "python",
   "name": "python3"
  },
  "language_info": {
   "codemirror_mode": {
    "name": "ipython",
    "version": 3
   },
   "file_extension": ".py",
   "mimetype": "text/x-python",
   "name": "python",
   "nbconvert_exporter": "python",
   "pygments_lexer": "ipython3",
   "version": "3.7.6"
  }
 },
 "nbformat": 4,
 "nbformat_minor": 4
}
